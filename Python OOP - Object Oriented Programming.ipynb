{
 "cells": [
  {
   "cell_type": "markdown",
   "id": "6467dad6-e5dd-4e4b-ace5-3d2967ebbb47",
   "metadata": {
    "jp-MarkdownHeadingCollapsed": true
   },
   "source": [
    "## Classes"
   ]
  },
  {
   "cell_type": "markdown",
   "id": "4764bb6f",
   "metadata": {},
   "source": [
    "- They act like \"blueprints\" that describe the state (attributes) and behavior (methods) of a type of real-world object or concept. <br>\n",
    "- They are used to represent real-world objects or entities relevant to the context of a program or system.\n",
    "\n",
    "<span style=\"color: darkblue\">For example: houses, bank accounts, employees, clients, cars, products.</span>\n",
    "\n",
    "\n",
    "**Main Elements:**\n",
    "- ```__init__()``` (Constructor): A special method called automatically when a new instance (object) of the class is created. It's used to initialize the instance's attributes.\n",
    "- Class Attributes: Variables that are shared among all instances of a class. They define characteristics common to the class itself, rather than individual objects.\n",
    "- Instance Attributes: Variables unique to each instance of a class, typically set within the ```__init__``` method.\n",
    "- Methods: Functions defined inside a class that describe the behaviors or actions that objects of the class can perform. They operate on the instance's attributes.\n",
    "\n",
    "**Guidelines:**\n",
    "- Class names are typically nouns. They should start with an uppercase letter.\n",
    "\n",
    "<span style=\"color: darkblue\">For example: House, Human, Dog, Account.</span>\n",
    "\n",
    "- If the name has more than one word, each word should be capitalized following the PascalCase naming convention.\n",
    "\n",
    "<span style=\"color: darkblue\">For example: SavingsAccount</span>\n",
    "\n",
    "- The body of the class must be indented.\n",
    "\n",
    "**Sintax:**\n",
    "\n",
    "```python\n",
    "class ClassName(object):\n",
    "    # Class body (attributes, __init__, methods)\n",
    "    pass # 'pass' is a placeholder if the class body is empty\n",
    "```"
   ]
  },
  {
   "cell_type": "markdown",
   "id": "90887fd4-8404-4cea-a2d0-9b54c0a690e1",
   "metadata": {
    "jp-MarkdownHeadingCollapsed": true
   },
   "source": [
    "## Instances"
   ]
  },
  {
   "cell_type": "markdown",
   "id": "0f0ac13a",
   "metadata": {},
   "source": [
    "- They are concrete representations of the abstract objects that classes describe. Think of them as individual, tangible items built from the class's blueprint.\n",
    "- They are created from a class, which acts like a \"blueprint.\" Classes determine the attributes (data) and functionality (methods) that their instances will possess.\n",
    "- You can assign custom or predefined values for their attributes. These values are typically assigned within the constructor ```__init__()```, a special method that runs automatically when an object (instance) is created.\n",
    "- While all instances of a class share the same \"categories\" of attributes (e.g., all ```Dog``` instances have a ```name``` and ```age``` attribute), the values for these attributes can be different for each instance. Changing the value of an attribute for one instance does not affect the attributes of other instances.\n",
    "\n",
    "<span style=\"color: darkblue\">For example: A Car class could have a \"color\" attribute. All the instances of that class would have this attribute, but their values can be different for each instance. One Car instance could have the value \"blue\" and another one the value \"red\", while both are still Car objects.</span>\n",
    "\n",
    "**Sintax:**\n",
    "\n",
    "```python\n",
    "<variable_name> = <ClassName>(<arguments_for_constructor>)\n",
    "\n",
    "## For Example\n",
    "# Assuming a BankAccount class is defined\n",
    "# class BankAccount:\n",
    "#     def __init__(self, account_number, owner_name, balance):\n",
    "#         self.account_number = account_number\n",
    "#         self.owner_name = owner_name\n",
    "#         self.balance = balance\n",
    "\n",
    "my_account = BankAccount(\"5621\", \"Lucca Ferrari\", 40000.00)\n",
    "```\n",
    "\n",
    "After creation, ```my_account``` is now an instance of the ```BankAccount``` class."
   ]
  },
  {
   "cell_type": "markdown",
   "id": "9f4a4492",
   "metadata": {},
   "source": [
    "**Constructor** ``` __init__() ```:\n",
    "- This is a reserved method in Python classes, identified by its double underscores (```__```) before and after its name.\n",
    "  \n",
    "- It's often referred to as the \"constructor\" of the class because its primary role is to construct (initialize) a new instance.\n",
    "  \n",
    "- It is automatically called by Python whenever an object (instance) of the class is created. Its purpose is to set up the initial state (instance attributes) of the new object.\n",
    "\n",
    "**Common Mistakes with** ``` __init__() ```\n",
    "- Omitting the ```def``` keyword: Remember ```__init__``` is a method, and all methods require ```def```.<br>\n",
    "    ```__init__(self, ...)``` ❌<br>\n",
    "    ```def __init__(self, ...):``` ✅\n",
    "      \n",
    "- Using only one underscore: The name must be ```__init__``` (two underscores on each side).<br>\n",
    "    ```_init_(self, ...)``` ❌<br>\n",
    "    ```def __init__(self, ...):``` ✅\n",
    "      \n",
    "- Omitting ```self``` as the first parameter: ```self``` is a required convention for all instance methods, especially ```__init__```.<br>\n",
    "    ```def __init__(param1, param2):``` ❌<br>\n",
    "    ```def __init__(self, param1, param2):``` ✅\n",
    "      \n",
    "- Not using ```self.<attribute>``` to assign instance attributes: Attributes meant to belong to a specific instance must be prefixed with ```self```.<br>\n",
    "    ```attribute = param``` ❌ (This creates a local variable within ```__init__```, not an instance attribute)<br>\n",
    "    ```self.attribute = param``` ✅ (This correctly assigns ```param``` to ```attribute``` of the current instance)\n",
    "\n",
    "**The ```self``` Parameter** \n",
    "- ```self``` is a conventional name (though you could technically use any name, ```self``` is strongly recommended) that serves as a reference to the current instance of the class.\n",
    "\n",
    "- It is the first parameter in all instance methods, including ```__init__```().\n",
    "\n",
    "- When you call a method on an object (e.g., ```my_object.method()```), Python automatically passes the ```my_object``` itself as the first argument to the ```method```, which is then received by the ```self``` parameter.\n",
    "\n",
    "- It allows you to access and manipulate the instance's own attributes and call other methods belonging to that same instance.\n",
    "\n",
    "💡 The value of ```self``` is assigned automatically by the Python interpreter behind the scenes when the code runs. Its value is a reference to the specific instance (object) in memory that is currently invoking the method or being initialized. It's how methods \"know\" which instance's data they should operate on."
   ]
  },
  {
   "cell_type": "code",
   "execution_count": null,
   "id": "cfb9911e",
   "metadata": {},
   "outputs": [],
   "source": [
    "## Creating a Class\n",
    "class BackPack:\n",
    "    def __init__(self):\n",
    "        self.items = []"
   ]
  },
  {
   "cell_type": "code",
   "execution_count": null,
   "id": "b4de20e6",
   "metadata": {
    "scrolled": true
   },
   "outputs": [],
   "source": [
    "## Creating an Instance\n",
    "my_backpack = BackPack()\n",
    "print(my_backpack)\n",
    "print(my_backpack.items)\n",
    "print(isinstance(my_backpack, object))"
   ]
  },
  {
   "cell_type": "code",
   "execution_count": null,
   "id": "38406eca",
   "metadata": {},
   "outputs": [],
   "source": [
    "## Creating a Class\n",
    "class BackPack:\n",
    "    def __init__(self, color, size):\n",
    "        self.items = []\n",
    "        self.color = color\n",
    "        self.size = size"
   ]
  },
  {
   "cell_type": "code",
   "execution_count": null,
   "id": "546cdcef",
   "metadata": {},
   "outputs": [],
   "source": [
    "## Creating an Instance\n",
    "my_backpack = BackPack(\"Blue\", \"Medium\")\n",
    "print(my_backpack)\n",
    "print(f\"Color: {my_backpack.color}, Size: {my_backpack.size}\")\n",
    "print(isinstance(my_backpack, object))"
   ]
  },
  {
   "cell_type": "code",
   "execution_count": null,
   "id": "5c99e791",
   "metadata": {},
   "outputs": [],
   "source": [
    "my_backpack.items = [\"Notebook\", \"Pen\", \"Bottle\"]\n",
    "print(f\"Items: {my_backpack.items}\")"
   ]
  },
  {
   "cell_type": "markdown",
   "id": "bc35524c-0733-44a1-a7d6-c03f20acc43b",
   "metadata": {
    "jp-MarkdownHeadingCollapsed": true
   },
   "source": [
    "## Instance Attributes"
   ]
  },
  {
   "cell_type": "markdown",
   "id": "ef2b261a",
   "metadata": {},
   "source": [
    "- Belong to instances: These attributes store data unique to each specific object created from a class. They represent the state of an individual instance.\n",
    "\n",
    "- Independence: Their values are not shared across instances. Each instance has its own individual copy of an instance attribute, meaning changes to one instance's attribute won't affect others.\n",
    "\n",
    "<span style=\"color: darkblue\">Example: In a ```BankAccount``` class, ```owner```, ```balance```, and ```account_number``` would typically be instance attributes, as each account has its own distinct values for these.</span>\n",
    "\n",
    "- Initialization: To provide custom values for these attributes when an instance is created, you add them as parameters to the ```__init__()``` constructor method. You then assign these values using the ```self.<attribute_name> = <parameter_value>``` syntax.\n",
    "\n",
    "- Access and Modification: You can access (```instance_name.attribute_name```) and modify (```instance_name.attribute_name = new_value```) the values of these attributes after the instance has been created.\n",
    "\n",
    "- Fixed Values: You can also set fixed (hardcoded) values for instance attributes directly within ```__init__()``` if certain attributes should always have the same initial value for every new instance (though this is less common than passing dynamic values)."
   ]
  },
  {
   "cell_type": "code",
   "execution_count": null,
   "id": "dfb4c65f",
   "metadata": {},
   "outputs": [],
   "source": [
    "class BankAccount:\n",
    "    accounts_created = 0\n",
    "    \n",
    "    def __init__ (self, number, client, balance=0.0):\n",
    "        self.number = number\n",
    "        self.client = client\n",
    "        self.balance = balance\n",
    "        BankAccount.accounts_created += 1\n",
    "        \n",
    "    def display_number(self):\n",
    "        print(self.number)\n",
    "        \n",
    "    def display_client(self):\n",
    "        print(self.client)\n",
    "        \n",
    "    def display_balance(self):\n",
    "        print(self.balance)\n",
    "\n",
    "my_account = BankAccount(\"1234\", \"Lucca Ferrari\")\n",
    "my_account.display_number()\n",
    "my_account.display_client()\n",
    "my_account.display_balance()"
   ]
  },
  {
   "cell_type": "markdown",
   "id": "98523f56",
   "metadata": {},
   "source": [
    "**Default Arguments** in ```__init__()```\n",
    "- Placement: Parameters with default arguments must always be the last parameters in your ```__init__()``` (or any function/method) parameter list.\n",
    "\n",
    "- Usage: If an ```__init__()``` parameter has a default value, and you omit that argument when creating an instance, the default value will be automatically assigned to that parameter. This makes some arguments optional."
   ]
  },
  {
   "cell_type": "code",
   "execution_count": null,
   "id": "e2d95b8f-87fd-4486-b5a5-caa6bd6346bc",
   "metadata": {},
   "outputs": [],
   "source": [
    "class Car:\n",
    "    def __init__(self, make, model, year, color=\"White\"): # 'color' has a default value\n",
    "        self.make = make\n",
    "        self.model = model\n",
    "        self.year = year\n",
    "        self.color = color # Will be \"White\" if not provided\n",
    "\n",
    "# Example usage:\n",
    "my_car = Car(\"Toyota\", \"Camry\", 2023)\n",
    "your_car = Car(\"Tesla\", \"Model 3\", 2024, \"Blue\")\n",
    "\n",
    "print(f\"My car color: {my_car.color}\")    # Output: My car color: White\n",
    "print(f\"Your car color: {your_car.color}\") # Output: Your car color: Blue"
   ]
  },
  {
   "cell_type": "markdown",
   "id": "b1d989cb",
   "metadata": {},
   "source": [
    "<br>**What is ```None```?** 🤔\n",
    "\n",
    "```None``` is a special constant in Python that signifies the absence of a value or a null object. It's a fundamental concept for handling situations where a variable or a return value might legitimately have no content yet.\n",
    "\n",
    "- Keyword & Object: ```None``` is a keyword and also an object itself.\n",
    "\n",
    "```NoneType```: It's the sole value of the ```NoneType``` data type.\n",
    "\n",
    "```print(type(None))``` will output ```<class 'NoneType'>```.\n",
    "\n",
    "- Comparisons: ```None``` is primarily used with identity operators (```is``` and ```is not```) for comparison.\n",
    "\n",
    "```if <variable> is None:```: Checks if the variable explicitly holds the ```None``` value.\n",
    "```if <variable> is not None:```: Checks if the variable holds any value other than ```None```.\n",
    "\n",
    "- Important Note: Comparing ```None``` to anything other than ```None``` using ```==``` will usually return ```False```, but it's best practice to use ```is``` for ```None``` comparisons as ```is``` checks for object identity, which is more robust for ```None```.\n",
    "\n",
    "```None == 0 is False```<br>\n",
    "```None == '' is False```<br>\n",
    "```None == [] is False```<br>\n",
    "```None is None is True```"
   ]
  },
  {
   "cell_type": "markdown",
   "id": "f09a23f0",
   "metadata": {},
   "source": [
    "<br>**Iterate Over Sequences of Instances**\n",
    "\n",
    "You can store instances of classes in lists, tuples, or other collections. This is incredibly useful for processing multiple objects of the same type in a structured way, allowing you to run the same code block (e.g., calling a method or accessing an attribute) for each instance."
   ]
  },
  {
   "cell_type": "code",
   "execution_count": null,
   "id": "4f1f2668",
   "metadata": {},
   "outputs": [],
   "source": [
    "class Player:\n",
    "    def __init__(self, x, y):\n",
    "        self.x = x\n",
    "        self.y = y\n",
    "\n",
    "# creating three instances:\n",
    "player1 = Player(5, 6)\n",
    "player2 = Player(2, 4)\n",
    "player3 = Player(3, 6)\n",
    "\n",
    "# storing these instances in a list:\n",
    "players = [player1, player2, player3]\n",
    "\n",
    "# using a for loop to iterate over them one by one:\n",
    "for player in players:\n",
    "    print(f\"X: {player.x} Y: {player.y}\")"
   ]
  },
  {
   "cell_type": "markdown",
   "id": "3119b535",
   "metadata": {},
   "source": [
    "<br>**Delete Instance Attributes with** ```del```\n",
    "\n",
    "Sometimes you might need to remove an attribute from an instance. Python provides two primary ways to do this.\n",
    "\n",
    "1. **Using ```del``` Keyword (Fixed Attribute Name)**<br>\n",
    "You can delete an instance attribute directly using the ```del``` keyword followed by the instance and the specific attribute name, separated by a dot (```.```)."
   ]
  },
  {
   "cell_type": "code",
   "execution_count": null,
   "id": "10323289",
   "metadata": {
    "scrolled": true
   },
   "outputs": [],
   "source": [
    "## Remove the instance attribute email from a my_person instance\n",
    "class Person:\n",
    "    def __init__(self, name, age, email):\n",
    "        self.name = name\n",
    "        self.age = age\n",
    "        self.email = email\n",
    "\n",
    "my_person = Person(\"Alice\", 30, \"alice@example.com\")\n",
    "print(f\"Before deletion - Email: {my_person.email}\")\n",
    "\n",
    "del my_person.email # Delete the 'email' attribute\n",
    "\n",
    "try:\n",
    "    print(my_person.email) # This will raise an AttributeError\n",
    "except AttributeError as e:\n",
    "    print(f\"Error: {e}\") # Output: Error: 'Person' object has no attribute 'email'"
   ]
  },
  {
   "cell_type": "markdown",
   "id": "ff575021",
   "metadata": {},
   "source": [
    "<br>**Limitation of ```del```**: With ```del instance.attribute```, you must use a fixed, literal name for the attribute. You cannot use a variable whose value determines the attribute name you want to delete.\n",
    "\n",
    "2. **Using ```delattr()``` Function (Dynamic Attribute Deletion)**<br>\n",
    "The built-in ```delattr()``` function allows you to delete an attribute whose name is provided as a string (e.g., from a variable). This is useful for dynamic scenarios where the attribute to be deleted might change."
   ]
  },
  {
   "cell_type": "code",
   "execution_count": null,
   "id": "04adbf42",
   "metadata": {},
   "outputs": [],
   "source": [
    "class Dog:\n",
    "    def __init__(self, name, breed, owner):\n",
    "        self.name = name\n",
    "        self.breed = breed\n",
    "        self.owner = owner\n",
    "\n",
    "my_dog = Dog(\"Buddy\", \"Golden Retriever\", \"John\")\n",
    "print(f\"Before delattr - Owner: {my_dog.owner}\")\n",
    "\n",
    "attribute_to_delete = \"owner\"\n",
    "delattr(my_dog, attribute_to_delete) # Dynamically delete the 'owner' attribute\n",
    "\n",
    "try:\n",
    "    print(my_dog.owner) # This will also raise an AttributeError\n",
    "except AttributeError as e:\n",
    "    print(f\"Error: {e}\") # Output: Error: 'Dog' object has no attribute 'owner'"
   ]
  },
  {
   "cell_type": "markdown",
   "id": "82c110f1-b1c1-451e-80fa-fe66c9568059",
   "metadata": {},
   "source": [
    "<br>**Example for creating instances of Bacterium Class**:"
   ]
  },
  {
   "cell_type": "code",
   "execution_count": null,
   "id": "29e3ab0f",
   "metadata": {},
   "outputs": [],
   "source": [
    "class Bacterium:\n",
    "    def __init__(self, x, y, name, shape, classification, motility, growth_rate):\n",
    "        self.x = x\n",
    "        self.y = y\n",
    "        self.name = name  # Name of the bacterium\n",
    "        self.shape = shape  # Shape of the bacterium (e.g., cocci, bacilli)\n",
    "        self.classification = classification  # Classification of the bacterium (e.g., gram-positive, gram-negative)\n",
    "\n",
    "# Creating instances of Bacterium\n",
    "bacterium1 = Bacterium(10, 20, \"Escherichia coli\", \"bacilli\", \"gram-negative\", \"flagella\", \"rapid\")\n",
    "bacterium2 = Bacterium(30, 40, \"Staphylococcus aureus\", \"cocci\", \"gram-positive\", \"non-motile\", \"moderate\")\n",
    "bacterium3 = Bacterium(50, 60, \"Bacillus subtilis\", \"bacilli\", \"gram-positive\", \"flagella\", \"moderate\")\n"
   ]
  },
  {
   "cell_type": "markdown",
   "id": "7be16f64",
   "metadata": {
    "jp-MarkdownHeadingCollapsed": true
   },
   "source": [
    "## Class Attributes"
   ]
  },
  {
   "cell_type": "markdown",
   "id": "a36fd957",
   "metadata": {},
   "source": [
    "**Class attributes** are variables that belong to the class itself, not to any specific instance. This means:\n",
    "\n",
    "- Shared Across Instances: All instances of the class share the same single copy of a class attribute.\n",
    "\n",
    "- One Copy: There is only one copy of each class attribute, regardless of how many instances you create.\n",
    "\n",
    "- Common Characteristics: They're ideal for storing data that is common to all instances or for defining constants related to the class.\n",
    "\n",
    "<span style=\"color: darkblue\">Example: If you want your ```BankAccount``` class to keep track of how many accounts have been created, you could use an ```accounts_created``` class attribute. Every ```BankAccount``` instance would access and update this same counter.</span>\n",
    "\n",
    "- Shared Value: The value of a class attribute is shared across all instances; they all access the value from the same source: the class itself.\n",
    "\n",
    "- Global Impact: Changing the value of a class attribute affects all instances, as they all derive their value from that single source.\n",
    "\n",
    "- Access & Modification: You can access and modify class attributes using the name of the class. No instance is required for this.\n",
    "\n",
    "```python\n",
    "class MyClass: \n",
    "    class_attribute_name = value \n",
    "# Defined directly within the class, outside any method\n",
    "```"
   ]
  },
  {
   "cell_type": "code",
   "execution_count": null,
   "id": "fa7f9a01",
   "metadata": {},
   "outputs": [],
   "source": [
    "class BankAccount:\n",
    "    # Class attribute: tracks the total number of bank accounts created\n",
    "    total_accounts_created = 0\n",
    "\n",
    "    def __init__(self, owner_name, initial_balance=0.0):\n",
    "        self.owner_name = owner_name\n",
    "        self.balance = initial_balance\n",
    "        BankAccount.total_accounts_created += 1 # Increment the class attribute\n",
    "\n",
    "    def display_account_info(self):\n",
    "        print(f\"Owner: {self.owner_name}, Balance: ${self.balance:.2f}\")\n",
    "\n",
    "# Accessing the class attribute directly via the class\n",
    "print(f\"Initial accounts created: {BankAccount.total_accounts_created}\") # Output: 0\n",
    "\n",
    "account1 = BankAccount(\"Alice\", 1000)\n",
    "account2 = BankAccount(\"Bob\", 500)\n",
    "account3 = BankAccount(\"Charlie\") # Uses default initial_balance\n",
    "\n",
    "# Accessing the class attribute via the class name (recommended)\n",
    "print(f\"Total accounts created: {BankAccount.total_accounts_created}\") # Output: 3\n",
    "\n",
    "# You can also access it via an instance, but it's less clear\n",
    "print(f\"Total accounts via account1: {account1.total_accounts_created}\") # Output: 3\n",
    "\n",
    "# Modifying a class attribute (affects all future checks)\n",
    "BankAccount.total_accounts_created = 100 # Not recommended in this example, but shows impact\n",
    "print(f\"Modified total accounts: {BankAccount.total_accounts_created}\") # Output: 100"
   ]
  },
  {
   "cell_type": "markdown",
   "id": "94e0d1f3",
   "metadata": {},
   "source": [
    "<br>**Class Attributes vs. Instance Attributes**<br>\n",
    "Here's a summary of the key differences between class attributes and instance attributes:\n",
    "\n",
    "| Feature            | Class Attributes                                  | Instance Attributes                                  |\n",
    "| :----------------- | :------------------------------------------------ | :--------------------------------------------------- |\n",
    "| **Belongs to** | The **class** itself.                             | Each **instance** of the class.                      |\n",
    "| **Copies** | Only **one copy** shared by all instances.        | Every instance has its **own individual copy**.      |\n",
    "| **Declaration** | Defined directly inside the class body, outside methods. | Defined typically in `__init__` using `self.`.   |\n",
    "| **Impact of Change** | Changing its value affects **all instances** | Changing its value affects **only that particular instance** |\n",
    "| **Use Case** | Shared data, constants, counters.                 | Unique state/data for each object.                 |"
   ]
  },
  {
   "cell_type": "markdown",
   "id": "7140bf99",
   "metadata": {},
   "source": [
    "<br>**Encapsulation and Abstraction**<br>\n",
    "These are fundamental principles in Object-Oriented Programming that aim to manage complexity and improve code organization, reusability, and maintainability.\n",
    "\n",
    "**Encapsulation**\n",
    "- Definition: The \"bundling\" of data (attributes) and the methods (functions) that operate on that data into a single unit (the class). It's like putting all related components into a protective capsule.\n",
    "\n",
    "- Information Hiding: A core principle of encapsulation is information hiding. This means restricting direct access to an object's internal data and processes, exposing only what's necessary through a well-defined public interface (methods).\n",
    "\n",
    "- Benefits: Protects data from accidental corruption, simplifies object interaction, and allows internal implementation details to change without affecting external code that uses the object.\n",
    "\n",
    "**Non-Public Attributes in Python**<br>\n",
    "Python uses naming conventions to indicate that an attribute is intended to be non-public, rather than enforcing strict privacy like some other languages.\n",
    "\n",
    "1. \"Protected\" Attributes (Single Leading Underscore ```_```)\n",
    "\n",
    "- Convention: The recommended way to indicate that an attribute or method is \"protected\" and should not be accessed or modified directly outside the class.\n",
    "- Technicality: Python does not prevent direct access; it's a gentleman's agreement among developers.\n",
    "\n",
    "<span style=\"color: darkblue\">Example: ```_internal_data```</span>\n",
    "\n",
    "2. \"Private\" Attributes (Double Leading Underscore ```__```)\n",
    "\n",
    "- Purpose: Primarily used to avoid name clashes in subclasses, not for strict privacy enforcement.\n",
    "- Name Mangling: When Python encounters an attribute with two leading underscores (e.g., ```__attribute_name```), it performs name mangling. This means the interpreter internally renames the attribute to ```_ClassName__attribute_name```.\n",
    "- Access: While it's harder, you can still technically access its value from outside the class by using the mangled name (e.g., ```_Car__engine_serial_num```). You should not do this in practice."
   ]
  },
  {
   "cell_type": "code",
   "execution_count": null,
   "id": "a2b060fd-2568-4446-8850-07aadcccd0bb",
   "metadata": {},
   "outputs": [],
   "source": [
    "class Car:\n",
    "    def __init__(self, make, model, engine_serial_num):\n",
    "        self.make = make\n",
    "        self.model = model\n",
    "        self.__engine_serial_num = engine_serial_num # This will be name-mangled\n",
    "\n",
    "    def get_engine_serial(self):\n",
    "        return self.__engine_serial_num\n",
    "\n",
    "my_car = Car(\"Honda\", \"Civic\", \"XYZ123\")\n",
    "print(my_car.get_engine_serial()) # Recommended way to access\n",
    "\n",
    "# Technical (but discouraged) way to access the mangled name:\n",
    "print(my_car._Car__engine_serial_num) # Output: XYZ123 (demonstrates it's not truly private)"
   ]
  },
  {
   "cell_type": "markdown",
   "id": "ad78a122-4b95-420b-9a30-9b5eb003c7e5",
   "metadata": {},
   "source": [
    "**Key Takeaway on Python Privacy:** An attribute is never truly private in Python. The underscores are strong conventions for developers to understand the intended usage and to avoid accidental misuse, not strict access restrictions enforced by the language. Python relies on the developer's discipline.\n",
    "\n",
    "**Abstraction**<br>\n",
    "- Definition: Showing only the essential attributes and functionalities of an object while hiding the complex, unnecessary implementation details from the user. It focuses on \"what\" an object does rather than \"how\" it does it.\n",
    "\n",
    "- Interface vs. Implementation: The public interface (methods that users interact with) of a component should be independent of its internal implementation. Users only need to know how to use the interface, not the intricate logic behind it.\n",
    "\n",
    "- Generalization: Often achieved through inheritance, where more general or \"abstract\" types of objects provide a common interface, allowing specific implementations to vary without affecting the code that uses the abstract type.\n",
    "\n",
    "- Benefits: Simplifies complex systems, improves usability, reduces dependencies, and makes systems easier to modify and maintain.\n",
    "\n",
    "<span style=\"color: darkblue\">Example Analogy:<br>\n",
    "When you drive a car (an abstraction), you interact with its public interface (steering wheel, pedals). You don't need to understand the complex internal combustion process (implementation details) to drive it. The car abstracts away the engine's complexity.</span>"
   ]
  },
  {
   "cell_type": "markdown",
   "id": "b254f39e-4e9d-4326-8b08-8af3fd86462d",
   "metadata": {},
   "source": [
    "<br>**Example of creating Classes and how to iterate over list of Instances.**"
   ]
  },
  {
   "cell_type": "code",
   "execution_count": null,
   "id": "c7d23198",
   "metadata": {},
   "outputs": [],
   "source": [
    "class Programmer:\n",
    "    \n",
    "    salary = 10000\n",
    "    monthly_bonus = 100\n",
    "    \n",
    "    def __init__(self, name, age, address, phone, programming_languages):\n",
    "        self.name = name\n",
    "        self.age = age\n",
    "        self.address = address\n",
    "        self.phone = phone\n",
    "        self.programming_languages = programming_languages\n",
    " \n",
    "class Assistant:\n",
    "    \n",
    "    salary = 5000\n",
    "    monthly_bonus = 50\n",
    "    \n",
    "    def __init__(self, name, age, address, phone, is_bilingual):\n",
    "        self.name = name\n",
    "        self.age = age\n",
    "        self.address = address\n",
    "        self.phone = phone\n",
    "        self.is_bilingual = is_bilingual\n",
    " \n",
    "# Function that prints the monthly salary of each worker\n",
    "# and the total amount that the startup owner has to pay per month.\n",
    "def calculate_payroll(employees):\n",
    " \n",
    "    total = 0\n",
    " \n",
    "    print(\"\\n========= Welcome to our Payroll System =========\\n\")\n",
    " \n",
    "    # Iterate over the list of instances to calculate\n",
    "    # and display the monthly salary of each employee,\n",
    "    # and add the monthly salary to the total for this month.\n",
    "    for employee in employees:\n",
    "        salary = round(employee.salary / 12, 2) + employee.monthly_bonus\n",
    "        print(employee.name.capitalize() + \"'s salary is: $\" + str(salary))\n",
    "        total += salary\n",
    " \n",
    "    # Display the total\n",
    "    print(\"\\nThe total payroll this month will be: $\", total)\n",
    " \n",
    "# Instances (employees)\n",
    "jack = Programmer(\"Jack\", 45, \"5th Avenue\", \"555-563-345\", [\"Python\", \"Java\"])\n",
    "isabel = Programmer(\"Isabel\", 25, \"6th Avenue\", \"234-245-853\", [\"JavaScript\"])\n",
    "nora = Assistant(\"Nora\", 23, \"7th Avenue\", \"562-577-333\", True)\n",
    " \n",
    "# List of instances\n",
    "employees = [jack, isabel, nora]\n",
    " \n",
    "# Function call (Passing the list of instances as argument)\n",
    "calculate_payroll(employees)"
   ]
  },
  {
   "cell_type": "markdown",
   "id": "976af29e",
   "metadata": {
    "jp-MarkdownHeadingCollapsed": true
   },
   "source": [
    "## Getters and Setters"
   ]
  },
  {
   "cell_type": "markdown",
   "id": "50a5df52",
   "metadata": {},
   "source": [
    "**Working with Non-Public Attributes Indirectly**<br>\n",
    "While Python's \"non-public\" attributes (those starting with a single ```_``` or double ```__```) aren't strictly enforced as private, it's good practice to provide controlled ways to interact with them. This is where getters, setters, and properties come in. They act as intermediaries, allowing you to add logic (like validation) when attributes are accessed or modified, rather than letting external code directly read/write their values.\n",
    "\n",
    "1. Getters (Accessor Methods)\n",
    "- Purpose: Methods that instances can call to \"get\" (retrieve) the value of a protected instance attribute. They serve as a controlled way to read internal data.\n",
    "- Advantage: Allow you to add logic before returning a value (e.g., formatting, security checks, or ensuring the attribute exists).\n",
    "- Naming Rule (Convention): ```get_ + <attribute_name>```.\n",
    "\n",
    "Examples: ```get_age()```, ```get_name()```, ```get_code()```.\n",
    "\n",
    "2. Setters (Mutator Methods)\n",
    "- Purpose: Methods that instances can call to \"set\" (modify) the value of a protected instance attribute. They are the controlled way to write internal data.\n",
    "- Advantage: Crucially, you can validate the new value before assigning it to the attribute. This ensures data integrity. If the value is invalid, you can raise an error, log a warning, or assign a default value.\n",
    "- Arguments: They typically take one argument: the new value for the attribute.\n",
    "- Naming Rule (Convention): ```set_ + <attribute_name>```.\n",
    "\n",
    "Examples: ```set_age(new_age)```, ```set_name(new_name)```, ```set_code(new_code)```."
   ]
  },
  {
   "cell_type": "code",
   "execution_count": null,
   "id": "269cd7a8",
   "metadata": {},
   "outputs": [],
   "source": [
    "class Student:\n",
    "    def __init__(self, name, age):\n",
    "        self._name = name  # Protected attribute\n",
    "        self._age = None   # Protected attribute, initialized with None\n",
    "        self.set_age(age)  # Use setter for initial validation\n",
    "\n",
    "    # Getter for _name\n",
    "    def get_name(self):\n",
    "        return self._name\n",
    "\n",
    "    # Setter for _name (simple, could add validation)\n",
    "    def set_name(self, new_name):\n",
    "        if isinstance(new_name, str) and new_name.strip():\n",
    "            self._name = new_name\n",
    "        else:\n",
    "            print(\"Invalid name. Name must be a non-empty string.\")\n",
    "\n",
    "    # Getter for _age\n",
    "    def get_age(self):\n",
    "        return self._age\n",
    "\n",
    "    # Setter for _age with validation\n",
    "    def set_age(self, new_age):\n",
    "        if isinstance(new_age, int) and 0 < new_age <= 120:\n",
    "            self._age = new_age\n",
    "        else:\n",
    "            print(\"Invalid age. Age must be an integer between 1 and 120.\")\n",
    "\n",
    "# Create an instance\n",
    "student1 = Student(\"Alice\", 20)\n",
    "\n",
    "# Get values using getters\n",
    "print(f\"Name: {student1.get_name()}, Age: {student1.get_age()}\")\n",
    "\n",
    "# Set values using setters\n",
    "student1.set_age(22)\n",
    "student1.set_name(\"Alicia Smith\")\n",
    "print(f\"Updated Name: {student1.get_name()}, Updated Age: {student1.get_age()}\")\n",
    "\n",
    "# Try invalid values\n",
    "student1.set_age(-5)    # Invalid age message\n",
    "student1.set_name(\"\")   # Invalid name message\n",
    "print(f\"Name (after invalid attempt): {student1.get_name()}, Age (after invalid attempt): {student1.get_age()}\")"
   ]
  },
  {
   "cell_type": "markdown",
   "id": "b766cc8a",
   "metadata": {},
   "source": [
    "3. Properties (The \"Pythonic\" Way)<br>\n",
    "\n",
    "Properties are Python's elegant solution for managing attribute access. They allow you to apply the logic of getters and setters while still interacting with the attribute using the simple dot notation (```instance.attribute```). This makes your code more readable and maintains the principle of encapsulation without sacrificing ease of use.\n",
    "\n",
    "- Syntax Simplicity: The property can be accessed and modified with the same syntax used to access public instance attributes (e.g., ```object.attribute = value``` or ```value = object.attribute```).\n",
    "\n",
    "- Behind the Scenes: You don't call getters and setters explicitly. Instead, Python automatically calls the appropriate getter or setter method \"behind the scenes\" when you access or assign to the property.\n",
    "\n",
    "**Two Alternatives to Create Properties:**\n",
    "\n",
    "1. Using the Built-in ```property()``` function:\n",
    "\n",
    "- This is the older, but still valid, way. You pass the getter, setter, and deleter methods to the ```property()``` constructor."
   ]
  },
  {
   "cell_type": "code",
   "execution_count": null,
   "id": "7479a4ed",
   "metadata": {},
   "outputs": [],
   "source": [
    "class Student:\n",
    "    def __init__(self, name, age):\n",
    "        self._name = name\n",
    "        self._age = None\n",
    "        self.age = age # Uses the setter for age property\n",
    "\n",
    "    def get_age(self): # Getter method for age\n",
    "        return self._age\n",
    "\n",
    "    def set_age(self, new_age): # Setter method for age\n",
    "        if isinstance(new_age, int) and 0 < new_age <= 120:\n",
    "            self._age = new_age\n",
    "        else:\n",
    "            print(\"Invalid age. Age must be an integer between 1 and 120.\")\n",
    "\n",
    "    # Create the 'age' property\n",
    "    age = property(get_age, set_age)\n",
    "\n",
    "# Example usage (same as before)\n",
    "student2 = Student(\"Bob\", 25)\n",
    "print(f\"Name: {student2._name}, Age: {student2.age}\") # Access via property 'age'\n",
    "\n",
    "student2.age = 30 # Calls the set_age method\n",
    "print(f\"Updated Age: {student2.age}\")\n",
    "\n",
    "student2.age = 200 # Calls the set_age, prints error\n",
    "print(f\"Age (after invalid attempt): {student2.age}\")"
   ]
  },
  {
   "cell_type": "markdown",
   "id": "2d9a69c5-fc4f-4bed-ba29-ed2e9fb9bf95",
   "metadata": {},
   "source": [
    "2. Using the ```@property``` Decorator (Recommended)\n",
    "\n",
    "- This is the modern, more readable, and preferred way in Python.\n",
    "\n",
    "- Decorator: A decorator is a function that takes another function and extends or modifies its behavior without explicitly changing its source code. ```@property``` transforms a method into a getter, and its associated decorators (```@<attribute>.setter```) define the setter."
   ]
  },
  {
   "cell_type": "code",
   "execution_count": null,
   "id": "ad7c1a8f-def4-428f-8ff5-26f7c982dcf9",
   "metadata": {},
   "outputs": [],
   "source": [
    "class Student:\n",
    "    def __init__(self, name, age):\n",
    "        self._name = name  # Protected attribute\n",
    "        self._age = None   # Protected attribute\n",
    "        self.age = age     # This will call the 'age' setter\n",
    "\n",
    "    # Getter for 'name' (optional, but good practice for consistency)\n",
    "    @property\n",
    "    def name(self):\n",
    "        return self._name\n",
    "\n",
    "    # Setter for 'name'\n",
    "    @name.setter\n",
    "    def name(self, new_name):\n",
    "        if isinstance(new_name, str) and new_name.strip():\n",
    "            self._name = new_name\n",
    "        else:\n",
    "            print(\"Invalid name. Name must be a non-empty string.\")\n",
    "\n",
    "    # Getter for 'age'\n",
    "    @property\n",
    "    def age(self):\n",
    "        return self._age\n",
    "\n",
    "    # Setter for 'age'\n",
    "    @age.setter\n",
    "    def age(self, new_age):\n",
    "        if isinstance(new_age, int) and 0 < new_age <= 120:\n",
    "            self._age = new_age\n",
    "        else:\n",
    "            print(\"Invalid age. Age must be an integer between 1 and 120.\")\n",
    "\n",
    "# Create an instance\n",
    "student3 = Student(\"Charlie\", 30)\n",
    "\n",
    "# Access values using property syntax\n",
    "print(f\"Name: {student3.name}, Age: {student3.age}\")\n",
    "\n",
    "# Set values using property syntax (calls setters implicitly)\n",
    "student3.age = 32\n",
    "student3.name = \"Charles Davis\"\n",
    "print(f\"Updated Name: {student3.name}, Updated Age: {student3.age}\")\n",
    "\n",
    "# Try invalid values\n",
    "student3.age = -10\n",
    "student3.name = \"   \"\n",
    "print(f\"Name (after invalid attempt): {student3.name}, Age (after invalid attempt): {student3.age}\")"
   ]
  },
  {
   "cell_type": "markdown",
   "id": "15e6c5b8-d708-437d-93f9-9d3ea0dc8dd9",
   "metadata": {
    "jp-MarkdownHeadingCollapsed": true
   },
   "source": [
    "## Methods"
   ]
  },
  {
   "cell_type": "markdown",
   "id": "d86dfb37-ef14-4a5a-a270-fe7347dafc2c",
   "metadata": {},
   "source": [
    "So far, our focus has been on the state of an object (its attributes). Now, we shift our attention to behavior. In Python OOP, methods define the actions or operations that objects (or the class itself) can perform. A method is essentially a function that \"belongs\" to a class or an object of that class.\n",
    "\n",
    "There are three primary types of methods in Python classes:\n",
    "\n",
    "1. Instance Methods: Operate on a specific instance's data.\n",
    "2. Class Methods: Operate on the class itself, often used for factory methods or manipulating class-level data.\n",
    "3. Static Methods: Do not operate on the instance or the class, acting more like regular functions logically grouped within a class.\n",
    "\n",
    "Let's start by looking at the most common type: instance methods.\n",
    "\n",
    "**Instance Methods**<br>\n",
    "- Belong to: A specific object (instance) of the class.\n",
    "- Access to State: They have access to the state (instance attributes) of the object that calls them. This is achieved through the self parameter (which refers to the calling instance).\n",
    "- Purpose: Define the behaviors unique to each instance, allowing instances to interact with their own data or perform actions based on their state."
   ]
  },
  {
   "cell_type": "code",
   "execution_count": null,
   "id": "1e26fe49-62b4-4249-8d69-f7b47cf403df",
   "metadata": {},
   "outputs": [],
   "source": [
    "class Dog:\n",
    "    def __init__(self, name, breed):\n",
    "        self.name = name   # Instance attribute\n",
    "        self.breed = breed # Instance attribute\n",
    "\n",
    "    # This is an instance method\n",
    "    def bark(self):\n",
    "        # It uses 'self.name' to access the specific dog's name\n",
    "        return f\"{self.name} says Woof!\"\n",
    "\n",
    "    # Another instance method\n",
    "    def describe(self):\n",
    "        return f\"{self.name} is a {self.breed}.\"\n",
    "\n",
    "# Creating instances\n",
    "my_dog = Dog(\"Buddy\", \"Golden Retriever\")\n",
    "your_dog = Dog(\"Lucy\", \"Beagle\")\n",
    "\n",
    "# Calling instance methods\n",
    "print(my_dog.bark())    # Output: Buddy says Woof!\n",
    "print(your_dog.describe()) # Output: Lucy is a Beagle."
   ]
  },
  {
   "cell_type": "markdown",
   "id": "7857d29d-e87f-4fe9-a45e-dcac5be029ce",
   "metadata": {},
   "source": [
    "**Non-Public Methods**<br>\n",
    "\n",
    "Just like attributes, methods can also be designated as \"non-public\" to indicate that they are intended for internal use within the class, following the principles of encapsulation.\n",
    "\n",
    "1. \"Protected\" Methods (Single Leading Underscore ```_```)\n",
    "\n",
    "- Convention: To follow Python naming conventions, if you want to indicate that a method is \"protected\" and should not be called directly from outside the class, you add a single leading underscore to its name.\n",
    "\n",
    "Example: ```def _calculate_total(self)```:\n",
    "\n",
    "- Behavior: Python does not technically prevent you from calling ```my_object._calculate_total()```. This is a \"gentleman's agreement\" among developers. It signals that if you call it from outside, you're bypassing the intended interface and might encounter issues if the internal implementation changes.\n",
    "\n",
    "2. \"Private\" Methods (Double Leading Underscore ```__```)\n",
    "\n",
    "- Purpose: Adding two leading underscores to the name of the method will trigger the process of name mangling. This is primarily used to prevent name clashes with methods in subclasses, not to enforce strict privacy.\n",
    "\n",
    "- Name Mangling: Python renames the method internally to ```_ClassName__method_name``` (e.g., ```__display_data``` becomes ```_MyClass__display_data```).\n",
    "\n",
    "Example: ```def __prepare_report(self)```:\n",
    "\n",
    "- Behavior: While name mangling makes it harder, you can still technically call the method from outside using its mangled name (e.g., ```my_object._MyClass__prepare_report()```). This is strongly discouraged."
   ]
  },
  {
   "cell_type": "code",
   "execution_count": null,
   "id": "4dc6e9a0-916f-4fd8-8ab4-3aedd8c14723",
   "metadata": {},
   "outputs": [],
   "source": [
    "class ReportGenerator:\n",
    "    def __init__(self, data):\n",
    "        self._raw_data = data # Protected attribute\n",
    "\n",
    "    # Protected method: intended for internal use\n",
    "    def _process_data(self):\n",
    "        # Simulate some data processing\n",
    "        processed = [item.upper() for item in self._raw_data]\n",
    "        return processed\n",
    "\n",
    "    # Private method (name-mangled): also for internal use\n",
    "    def __format_output(self, processed_data):\n",
    "        return \"\\n\".join(f\"- {item}\" for item in processed_data)\n",
    "\n",
    "    # Public method: the intended way to interact with the class\n",
    "    def generate_report(self):\n",
    "        intermediate_data = self._process_data() # Calls the protected method\n",
    "        final_report = self.__format_output(intermediate_data) # Calls the private method\n",
    "        return \"Report:\\n\" + final_report\n",
    "\n",
    "# Create an instance\n",
    "generator = ReportGenerator([\"item1\", \"item2\", \"item3\"])\n",
    "\n",
    "# Call the public method (recommended)\n",
    "print(generator.generate_report())"
   ]
  },
  {
   "cell_type": "markdown",
   "id": "a1235e1b-6bd2-4284-bd48-65c6422040e5",
   "metadata": {
    "jp-MarkdownHeadingCollapsed": true
   },
   "source": [
    "## Aggregation"
   ]
  },
  {
   "cell_type": "markdown",
   "id": "68dd4bc4-0a3f-469d-9800-f60f94e3a5aa",
   "metadata": {},
   "source": [
    "**Aggregation** is a specific type of **association** between two classes that represents a \"has-a\" or \"part-of\" relationship, but where the \"part\" can exist independently of the \"whole.\" It's a weaker form of relationship compared to composition (which we'll discuss later).\n",
    "\n",
    "In aggregation:\n",
    "\n",
    "- **\"Whole-Part\" Relationship**: One class (the \"whole\" or \"container\") contains or \"has\" instances of another class (the \"part\" or \"contained\").\n",
    "\n",
    "- **Independent Lifecycles**: The key characteristic of aggregation is that the \"part\" objects can exist independently of the \"whole\" object. If the \"whole\" object is destroyed, the \"part\" objects can continue to exist.\n",
    "\n",
    "- **Shared Parts (Optional)**: A \"part\" object can potentially be associated with more than one \"whole\" object (though this depends on the specific design).\n",
    "\n",
    "Analogy: Think of a ```Department``` and ```Professor``` in a university. A ```Department``` \"has\" ```Professors```. If the ```Department``` is dissolved, the ```Professors``` still exist as individuals and can join other departments or universities. The ```Professor``` objects have a lifecycle independent of the ```Department``` object.\n",
    "\n",
    "**How to Implement Aggregation in Python**:\n",
    "Aggregation is typically implemented by having one class hold a reference to an instance (or instances) of another class. This reference is usually passed into the \"whole\" object's constructor or set via a method."
   ]
  },
  {
   "cell_type": "code",
   "execution_count": null,
   "id": "418360ab-f8a6-4d42-91c9-482490674d55",
   "metadata": {},
   "outputs": [],
   "source": [
    "class Professor:\n",
    "    def __init__(self, name, subject):\n",
    "        self.name = name\n",
    "        self.subject = subject\n",
    "        print(f\"Professor {self.name} ({self.subject}) created.\")\n",
    "\n",
    "    def __str__(self):\n",
    "        return f\"Professor {self.name} teaching {self.subject}\"\n",
    "\n",
    "class Department:\n",
    "    def __init__(self, name):\n",
    "        self.name = name\n",
    "        self.professors = [] # A list to hold Professor objects (aggregation)\n",
    "        print(f\"Department {self.name} created.\")\n",
    "\n",
    "    def add_professor(self, professor):\n",
    "        if isinstance(professor, Professor):\n",
    "            self.professors.append(professor)\n",
    "            print(f\"{professor.name} added to {self.name} Department.\")\n",
    "        else:\n",
    "            print(\"Only Professor objects can be added to a Department.\")\n",
    "\n",
    "    def list_professors(self):\n",
    "        if not self.professors:\n",
    "            print(f\"No professors in {self.name} Department.\")\n",
    "            return\n",
    "        print(f\"\\nProfessors in {self.name} Department:\")\n",
    "        for prof in self.professors:\n",
    "            print(f\"- {prof.name} ({prof.subject})\")\n",
    "\n",
    "# --- Demonstrating Aggregation ---\n",
    "\n",
    "# 1. Create Professor objects (they can exist independently)\n",
    "prof1 = Professor(\"Dr. Smith\", \"Computer Science\")\n",
    "prof2 = Professor(\"Dr. Jones\", \"Mathematics\")\n",
    "prof3 = Professor(\"Dr. Lee\", \"Physics\")\n",
    "\n",
    "# 2. Create a Department object\n",
    "cs_department = Department(\"Computer Science\")\n",
    "\n",
    "# 3. Add Professor objects to the Department (Aggregation: Department \"has\" Professors)\n",
    "cs_department.add_professor(prof1)\n",
    "cs_department.add_professor(prof2)\n",
    "\n",
    "cs_department.list_professors()\n",
    "\n",
    "# 4. Demonstrate independent lifecycle:\n",
    "#    Even if the department object were deleted, prof1 and prof2 would still exist.\n",
    "print(f\"\\nIs Dr. Smith still an independent object? {prof1}\")\n",
    "\n",
    "# Create another department and add an existing professor\n",
    "math_department = Department(\"Mathematics\")\n",
    "math_department.add_professor(prof2) # Dr. Jones can be part of another department (or multiple, if allowed by design)\n",
    "\n",
    "math_department.list_professors()"
   ]
  },
  {
   "cell_type": "markdown",
   "id": "dd03948b-6b78-4a43-8d31-585ebcbd7a62",
   "metadata": {},
   "source": [
    "**Key Characteristics of Aggregation**:\n",
    "- \"Has-a\" Relationship: Clearly indicates that one object \"has\" or uses another object.\n",
    "\n",
    "- Loose Coupling: The \"whole\" and \"part\" objects are loosely coupled. Changes to one generally don't drastically affect the other's existence.\n",
    "\n",
    "- Independent Creation/Deletion: Parts can be created before the whole, and can persist after the whole is destroyed.\n",
    "\n",
    "Aggregation is a common and flexible way to build relationships between objects in your Python programs, allowing for modular and reusable code. It's often contrasted with Composition, which implies a stronger, dependent \"part-of\" relationship."
   ]
  },
  {
   "cell_type": "markdown",
   "id": "ce77ec93-fa59-4908-8ab1-849effec7edf",
   "metadata": {
    "jp-MarkdownHeadingCollapsed": true
   },
   "source": [
    "## Composition"
   ]
  },
  {
   "cell_type": "markdown",
   "id": "e4e260a3-1f13-4fed-8486-b60fdadf45b3",
   "metadata": {},
   "source": [
    "**Composition** is a strong form of association between two classes that also represents a \"has-a\" or \"part-of\" relationship. However, unlike aggregation, in composition, the \"part\" objects are **strictly dependent** on the \"whole\" object for their existence. If the \"whole\" object is destroyed, its \"part\" objects are also destroyed.\n",
    "\n",
    "In composition:\n",
    "\n",
    "- **\"Whole-Part\" Relationship**: One class (the \"whole\" or \"container\") is composed of instances of another class (the \"part\" or \"component\").\n",
    "\n",
    "- **Dependent Lifecycles**: This is the defining characteristic. The \"part\" objects cannot exist independently of the \"whole\" object. Their creation and destruction are managed by the \"whole\" object.\n",
    "\n",
    "- **Exclusive Ownership**: Typically, a \"part\" object belongs exclusively to one \"whole\" object. It's not usually shared.\n",
    "\n",
    "Analogy: Think of a ```Car``` and its ```Engine```. A ```Car``` \"has-an\" ```Engine```. If the ```Car``` object is destroyed (e.g., junked), its ```Engine``` object is also considered destroyed along with it; the ```Engine``` doesn't typically exist as a separate, functional entity outside of the ```Car``` it was built into (in this context). The ```Engine``` is an integral part of the ```Car```.\n",
    "\n",
    "**How to Implement Composition in Python**:\n",
    "\n",
    "Composition is usually implemented by creating the \"part\" objects directly inside the \"whole\" object's constructor (```__init__```). This ensures that the lifecycle of the part is managed by the whole."
   ]
  },
  {
   "cell_type": "code",
   "execution_count": null,
   "id": "e11aa194-5ade-4a47-aff4-2a9526421b96",
   "metadata": {},
   "outputs": [],
   "source": [
    "class Engine:\n",
    "    def __init__(self, horsepower, fuel_type):\n",
    "        self.horsepower = horsepower\n",
    "        self.fuel_type = fuel_type\n",
    "        print(f\"Engine ({self.horsepower} HP, {self.fuel_type}) created.\")\n",
    "\n",
    "    def start(self):\n",
    "        return f\"Engine ({self.horsepower} HP) starting... Vroom!\"\n",
    "\n",
    "    def __del__(self):\n",
    "        # A simple __del__ method to illustrate destruction\n",
    "        print(f\"Engine ({self.horsepower} HP) is being destroyed.\")\n",
    "\n",
    "class Car:\n",
    "    def __init__(self, make, model, hp, fuel):\n",
    "        self.make = make\n",
    "        self.model = model\n",
    "        # Composition: The Engine object is created directly within the Car\n",
    "        self.engine = Engine(hp, fuel)\n",
    "        print(f\"Car '{self.make} {self.model}' created with its engine.\")\n",
    "\n",
    "    def drive(self):\n",
    "        return f\"{self.make} {self.model} is driving. {self.engine.start()}\"\n",
    "\n",
    "    def __del__(self):\n",
    "        # When the Car object is deleted, its engine object will also be eligible for garbage collection\n",
    "        print(f\"Car '{self.make} {self.model}' is being destroyed.\")\n",
    "\n",
    "# --- Demonstrating Composition ---\n",
    "\n",
    "print(\"--- Creating Car 1 ---\")\n",
    "my_car = Car(\"Toyota\", \"Camry\", 180, \"Gasoline\")\n",
    "print(my_car.drive())\n",
    "\n",
    "# When my_car goes out of scope or is explicitly deleted,\n",
    "# its engine will also be destroyed by Python's garbage collector.\n",
    "# Let's explicitly delete it to see the __del__ calls.\n",
    "print(\"\\n--- Deleting Car 1 ---\")\n",
    "del my_car\n",
    "# You will see messages about both Car and Engine being destroyed.\n",
    "\n",
    "\n",
    "print(\"\\n--- Creating Car 2 ---\")\n",
    "your_car = Car(\"Tesla\", \"Model 3\", 300, \"Electric\")\n",
    "print(your_car.drive())\n",
    "\n",
    "# The program ends, and your_car (and its engine) will be destroyed."
   ]
  },
  {
   "cell_type": "markdown",
   "id": "589331b8-7e67-4782-99ed-3015f5c5dbc6",
   "metadata": {},
   "source": [
    "**Key Characteristics of Composition**:\n",
    "\n",
    "- \"Part-of\" Relationship: Implies a strong, integral connection where the part is a fundamental component of the whole.\n",
    "\n",
    "- Strong Coupling: The \"whole\" and \"part\" objects are strongly coupled. The part's existence is tied to the whole.\n",
    "\n",
    "- Dependent Creation/Deletion: Parts are typically created and destroyed along with the whole.\n",
    "\n",
    "- Exclusive Ownership: The part usually belongs exclusively to one whole.\n",
    "\n",
    "Composition is ideal when a \"part\" cannot meaningfully exist without its \"whole.\" It leads to a clear and concise model where the container manages the lifecycle of its components."
   ]
  },
  {
   "cell_type": "markdown",
   "id": "5964ed27-810a-4bc1-8b8c-196d37b5b7f2",
   "metadata": {
    "jp-MarkdownHeadingCollapsed": true
   },
   "source": [
    "## Objects in Memory"
   ]
  },
  {
   "cell_type": "markdown",
   "id": "130f2190-9315-4238-8482-0f8efd222df8",
   "metadata": {},
   "source": [
    "**Object Memory in Python**\n",
    "\n",
    "In Python, everything you interact with is an object. This includes fundamental data types like numbers, strings, and lists, as well as more complex constructs like functions and classes themselves. Understanding how Python manages these objects in memory is crucial.\n",
    "\n",
    "- Objects and Memory Allocation: When you create an object (e.g., ```x = 10```, ```my_list = [1, 2]```), Python automatically allocates space in memory to store that object and its associated data (its value, type, etc.).\n",
    "\n",
    "- Variables as References: Variables in Python don't directly store objects. Instead, they act as references (or pointers) to objects stored elsewhere in memory. Think of a variable as a label or a sticky note attached to an object.\n",
    "\n",
    "``` python\n",
    "x = 10       # 'x' is a reference to the integer object 10\n",
    "y = x        # 'y' now also references the SAME integer object 10\n",
    "```\n",
    "\n",
    "- Automatic Garbage Collection: Python features automatic garbage collection. This means you don't typically need to manually free up memory. Python's garbage collector automatically reclaims (frees up) memory when an object is no longer referenced by any part of your program.\n",
    "\n",
    "- Object Identity (ID):\n",
    "  - Each object in Python has a unique identity, represented by an integer. This number typically corresponds to the unique memory address where the object is currently stored.\n",
    "  - This ID is unique for each object during its lifetime.\n",
    "  - You can retrieve an object's ID using the built-in id() function."
   ]
  },
  {
   "cell_type": "code",
   "execution_count": null,
   "id": "60373795-3176-43b3-a0d4-297df165571f",
   "metadata": {},
   "outputs": [],
   "source": [
    "a = [1, 2]\n",
    "b = [1, 2]\n",
    "c = a\n",
    "\n",
    "print(f\"ID of a: {id(a)}\")\n",
    "print(f\"ID of b: {id(b)}\")\n",
    "print(f\"ID of c: {id(c)}\") # c has the same ID as a"
   ]
  },
  {
   "cell_type": "markdown",
   "id": "4f578ee4-6f9e-4faa-aa67-ca8a8d6e6b3f",
   "metadata": {},
   "source": [
    "- Object Lifetime:\n",
    "  - An object's lifetime is determined by the number of references pointing to it in the program. Python keeps a count of these references.\n",
    "  - If the number of references to an object reaches zero, the object becomes eligible for garbage collection, and its memory can be reclaimed.\n",
    "\n",
    "- The ```is``` Operator:\n",
    "  - The ```is``` operator is used to check for object identity. It returns ```True``` if two operands (variables) refer to the exact same object in memory (i.e., they have the same ```id()```).\n",
    "  - It returns ```False``` if they are different objects, even if they have the same value."
   ]
  },
  {
   "cell_type": "code",
   "execution_count": null,
   "id": "06e3d7c1-0826-4b41-893d-3deb2a6ea394",
   "metadata": {},
   "outputs": [],
   "source": [
    "list1 = [10, 20]\n",
    "list2 = [10, 20]\n",
    "list3 = list1\n",
    "\n",
    "print(f\"list1 is list2: {list1 is list2}\") # False (different objects, same value)\n",
    "print(f\"list1 is list3: {list1 is list3}\") # True (same object)\n",
    "print(f\"id(list1) == id(list2): {id(list1) == id(list2)}\") # False\n",
    "print(f\"id(list1) == id(list3): {id(list1) == id(list3)}\") # True\n",
    "\n",
    "# Compare with '==' for value equality\n",
    "print(f\"list1 == list2: {list1 == list2}\") # True (same values)"
   ]
  },
  {
   "cell_type": "markdown",
   "id": "9d48d9ee-84f9-4ee4-a6c4-3db889918a4f",
   "metadata": {},
   "source": [
    "- Object Attributes: Identity, Type, and Value: Every object in Python has:\n",
    "    - **Identity**: A unique, fixed identifier (its ```id()```).\n",
    "    - **Type**: Defines what kind of object it is (e.g., ```<class 'int'>```, ```<class 'str'>```, ```<class 'list'>```). The type is immutable.\n",
    "    - **Value**: The data that the object represents. For mutable objects (like lists), the value can change. For immutable objects (like numbers, strings, tuples), the value cannot change after creation."
   ]
  },
  {
   "cell_type": "markdown",
   "id": "d0bdbf45-c8df-4954-a73d-20482a225620",
   "metadata": {},
   "source": [
    "**Memory Optimization in Python**\n",
    "\n",
    "Python's core design aims for ease of use, but it also includes several built-in mechanisms to optimize memory usage and object management. These optimizations are often transparent to the developer but are important for understanding the language's behavior.\n",
    "\n",
    "1. **Integer Caching/Interning for Small Integers:**\n",
    "- Python pre-allocates and caches a range of small integers, typically from **-5 to 256**.\n",
    "- When you create an integer object within this range, Python reuses the existing object in memory instead of creating a new one. This saves memory and speeds up comparisons."
   ]
  },
  {
   "cell_type": "code",
   "execution_count": null,
   "id": "008bb61e-6a1b-451d-ab40-451f86bff7eb",
   "metadata": {},
   "outputs": [],
   "source": [
    "a = 100\n",
    "b = 100\n",
    "c = 300\n",
    "d = 300\n",
    "\n",
    "print(f\"id(a): {id(a)}\")\n",
    "print(f\"id(b): {id(b)}\")\n",
    "print(f\"a is b: {a is b}\") # True (both reference the cached 100)\n",
    "\n",
    "print(f\"id(c): {id(c)}\")\n",
    "print(f\"id(d): {id(d)}\")\n",
    "print(f\"c is d: {c is d}\") # False (300 is outside the typical cached range, so new objects are created)"
   ]
  },
  {
   "cell_type": "markdown",
   "id": "8e50e208-be74-4c6b-b084-9c9f50b6cbb0",
   "metadata": {},
   "source": [
    "2. **String Interning:**\n",
    "- Similar to integers, Python often \"interns\" (reuses) short, immutable strings that appear multiple times in the code. This means identical strings might point to the same object in memory.\n",
    "- This is more likely to happen for strings that are valid Python identifiers (e.g., variable names, keywords). It helps optimize dictionary keys and other lookups."
   ]
  },
  {
   "cell_type": "code",
   "execution_count": null,
   "id": "acf184b4-dad4-4076-b341-48ee033259b2",
   "metadata": {},
   "outputs": [],
   "source": [
    "s1 = \"hello_world\"\n",
    "s2 = \"hello_world\"\n",
    "s3 = \"a long string that might not be interned because it's long and has spaces\"\n",
    "s4 = \"a long string that might not be interned because it's long and has spaces\"\n",
    "\n",
    "print(f\"s1 is s2: {s1 is s2}\") # Often True for simple, short strings\n",
    "print(f\"s3 is s4: {s3 is s4}\") # Often False for complex or longer strings"
   ]
  },
  {
   "cell_type": "markdown",
   "id": "e5f4d8c2-48a2-4db0-ae1d-4485ba7f15e8",
   "metadata": {},
   "source": [
    "**Working with Objects and References**\n",
    "\n",
    "In Python, everything is an object, and variables are not containers for objects but rather labels or references that point to objects in memory. This fundamental concept dictates how objects behave when you assign them, pass them to functions, or return them.\n",
    "\n",
    "1. Variables are References (Not Containers)\n",
    "- When you assign a value to a variable, the variable stores a reference to an object, not the object itself.\n",
    "- If you assign one variable to another, both variables will then refer to the same object in memory."
   ]
  },
  {
   "cell_type": "code",
   "execution_count": null,
   "id": "15012191-0b23-45dd-8073-75ddc0b2fe6c",
   "metadata": {},
   "outputs": [],
   "source": [
    "list_a = [1, 2, 3] # list_a refers to a list object\n",
    "list_b = list_a    # list_b now refers to the SAME list object as list_a\n",
    "\n",
    "print(f\"ID of list_a: {id(list_a)}\")\n",
    "print(f\"ID of list_b: {id(list_b)}\")\n",
    "print(f\"list_a is list_b: {list_a is list_b}\") # True"
   ]
  },
  {
   "cell_type": "markdown",
   "id": "86e213d2-a6d8-449f-ac0f-a01a14944752",
   "metadata": {},
   "source": [
    "2. Passing Arguments to Functions (Call by Object Reference)\n",
    "- When you pass an object (or more accurately, a variable referring to an object) to a function, Python uses a mechanism often called \"Call by Object Reference\" (or sometimes \"Call by Sharing\").\n",
    "- This means that a copy of the reference to the object is passed to the function's parameter. The parameter inside the function then refers to the same original object that was passed from outside.\n",
    "\n",
    "**Implications with Mutability**:\n",
    "\n",
    "The effect of passing objects to functions heavily depends on whether the object is mutable (its state can be changed after creation, e.g., lists, dictionaries, custom objects) or immutable (its state cannot be changed, e.g., numbers, strings, tuples).\n",
    "\n",
    "- When you pass a ```Mutable``` Object:\n",
    "\n",
    "    - Since the function receives a copy of the reference to the original object, any modifications made to that object through that reference inside the function will affect the original object outside the function.\n",
    "    - If you reassign the local parameter variable inside the function to point to a new object, this reassignment will not affect the original object outside. It only changes what the local parameter variable refers to."
   ]
  },
  {
   "cell_type": "code",
   "execution_count": null,
   "id": "9019983f-9461-47ec-807c-ae51796a7521",
   "metadata": {},
   "outputs": [],
   "source": [
    "def modify_list(my_list_param):\n",
    "    print(f\"Inside function (before modification) - ID: {id(my_list_param)}, Value: {my_list_param}\")\n",
    "    my_list_param.append(4) # Modifies the original list object\n",
    "    print(f\"Inside function (after append) - ID: {id(my_list_param)}, Value: {my_list_param}\")\n",
    "\n",
    "    my_list_param = [5, 6, 7] # Reassigns local parameter to a NEW list object\n",
    "    print(f\"Inside function (after reassign) - ID: {id(my_list_param)}, Value: {my_list_param}\")\n",
    "\n",
    "original_list = [1, 2, 3]\n",
    "print(f\"Outside function (initial) - ID: {id(original_list)}, Value: {original_list}\")\n",
    "\n",
    "modify_list(original_list)\n",
    "\n",
    "print(f\"Outside function (after call) - ID: {id(original_list)}, Value: {original_list}\")\n",
    "# Output for original_list will be [1, 2, 3, 4] (append affected it),\n",
    "# but NOT [5, 6, 7] (reassignment didn't affect original)"
   ]
  },
  {
   "cell_type": "markdown",
   "id": "d109dfa3-1bdf-4a85-a23e-fd261838b021",
   "metadata": {},
   "source": [
    "- When you pass an ```Immutable``` Object:\n",
    "\n",
    "    - Since immutable objects cannot be changed in place, any \"modification\" inside the function (like assigning a new value to the parameter) actually creates a new object and makes the local parameter refer to that new object.\n",
    "    - This does not affect the original object outside the function."
   ]
  },
  {
   "cell_type": "code",
   "execution_count": null,
   "id": "5b7378ff-eb4e-4c4a-ac7e-6b6a805270f6",
   "metadata": {},
   "outputs": [],
   "source": [
    "def modify_number(my_num_param):\n",
    "    print(f\"Inside function (before modification) - ID: {id(my_num_param)}, Value: {my_num_param}\")\n",
    "    my_num_param += 10 # Creates a NEW integer object and makes my_num_param refer to it\n",
    "    print(f\"Inside function (after modification) - ID: {id(my_num_param)}, Value: {my_num_param}\")\n",
    "\n",
    "original_number = 5\n",
    "print(f\"Outside function (initial) - ID: {id(original_number)}, Value: {original_number}\")\n",
    "\n",
    "modify_number(original_number)\n",
    "\n",
    "print(f\"Outside function (after call) - ID: {id(original_number)}, Value: {original_number}\")\n",
    "# Output for original_number will still be 5"
   ]
  },
  {
   "cell_type": "markdown",
   "id": "28f0c1d8-b0ec-40c1-abb2-a5e8a37dddd7",
   "metadata": {
    "jp-MarkdownHeadingCollapsed": true
   },
   "source": [
    "## Aliasing, Mutation, and Cloning"
   ]
  },
  {
   "cell_type": "markdown",
   "id": "6d4ae125-2129-4788-8748-ac9f2f6e202e",
   "metadata": {},
   "source": [
    "**1. Aliasing (Alias)**\n",
    "\n",
    "Concept: Aliasing occurs when multiple variables refer to the exact same object in memory. They are different labels pointing to the same single underlying data.\n",
    "\n",
    "- How it happens: This commonly happens through direct assignment (var2 = var1) or when objects are passed as arguments to functions.\n",
    "- Verification: You can check for aliasing using the ```is``` operator, which compares object identities (```id()```)."
   ]
  },
  {
   "cell_type": "code",
   "execution_count": null,
   "id": "574b4591-e854-4f12-94a9-2f6c9c7a56e1",
   "metadata": {},
   "outputs": [],
   "source": [
    "# Example of Aliasing\n",
    "list1 = [10, 20, 30]\n",
    "list2 = list1 # list2 is now an alias of list1\n",
    "\n",
    "print(f\"ID of list1: {id(list1)}\")\n",
    "print(f\"ID of list2: {id(list2)}\")\n",
    "print(f\"list1 is list2: {list1 is list2}\") # Output: True, they refer to the same object"
   ]
  },
  {
   "cell_type": "markdown",
   "id": "0519d374-0b85-49ec-8eb2-7dbf8a49089e",
   "metadata": {},
   "source": [
    "**2. Mutation (Mutating an Object)**\n",
    "\n",
    "Concept: Mutation refers to the act of changing the internal state or content of an object in place, without creating a new object. This is only possible with mutable objects (like lists, dictionaries, sets, and custom class instances).\n",
    "\n",
    "- Implications: If an object has aliases, and one alias is used to mutate the object, all other aliases will immediately \"see\" and reflect that change because they all point to the same modified object. Immutable objects (like numbers, strings, tuples) cannot be mutated; operations on them always result in new objects.\n",
    "\n",
    "Notice how modifying ```list2``` also modified ```list1``` because they are aliases pointing to the same mutable list object."
   ]
  },
  {
   "cell_type": "code",
   "execution_count": null,
   "id": "db359ca0-875a-4c10-a3b8-beeb552c1d93",
   "metadata": {},
   "outputs": [],
   "source": [
    "# Example of Mutation (continuing from Aliasing)\n",
    "list1 = [10, 20, 30]\n",
    "list2 = list1 # list2 is an alias of list1\n",
    "\n",
    "print(f\"Before mutation: list1={list1}, list2={list2}\")\n",
    "\n",
    "list2.append(40) # Mutating the object via list2\n",
    "\n",
    "print(f\"After mutation: list1={list1}, list2={list2}\") # Output: list1=[10, 20, 30, 40], list2=[10, 20, 30, 40]\n",
    "print(f\"list1 is list2: {list1 is list2}\") # Still True, it's the same object, just modified"
   ]
  },
  {
   "cell_type": "markdown",
   "id": "0b9674b3-6793-4aea-ae87-b6f95e71bf4c",
   "metadata": {},
   "source": [
    "**3. Cloning (Copying an Object)**\n",
    "\n",
    "Concept: Cloning (or copying) means creating a new, separate object that has the same content as an existing object. The new object is distinct from the original in memory.\n",
    "\n",
    "- Purpose: To break aliasing. When you clone, you get an independent copy, so changes to the copy do not affect the original, and vice-versa.\n",
    "- Types of Cloning:\n",
    "    - Shallow Copy: Creates a new compound object, but then inserts references to the original object's contents. If the original object contains other mutable objects (e.g., a list of lists), the new copy will still share those nested mutable objects. Changes to nested mutable objects will affect both original and copy.\n",
    "    - Deep Copy: Creates a completely independent new compound object by recursively copying all objects found in the original. Changes to any part of the deep copy will not affect the original, and vice-versa."
   ]
  },
  {
   "cell_type": "code",
   "execution_count": null,
   "id": "bc86039a-a6e7-4fd7-bd5d-606e8ecdb195",
   "metadata": {},
   "outputs": [],
   "source": [
    "import copy\n",
    "\n",
    "original_list = [[1, 2], 3]\n",
    "\n",
    "# --- Shallow Copy ---\n",
    "shallow_copy = list(original_list)\n",
    "    # Or shallow_copy = original_list[:] # Usando slicing completo\n",
    "    # Or shallow_copy = original_list.copy()\n",
    "print(\"\\n--- Shallow Copy ---\")\n",
    "print(f\"Original ID: {id(original_list)}, Shallow Copy ID: {id(shallow_copy)}\")\n",
    "print(f\"Original[0] ID: {id(original_list[0])}, Shallow Copy[0] ID: {id(shallow_copy[0])}\") # Same ID for nested list\n",
    "\n",
    "shallow_copy[0].append(4) # Mutate nested list via shallow copy\n",
    "shallow_copy.append(5)    # Mutate top-level list via shallow copy\n",
    "\n",
    "print(f\"Original after shallow_copy mutation: {original_list}\") # Output: [[1, 2, 4], 3] (nested changed)\n",
    "print(f\"Shallow Copy after mutation: {shallow_copy}\")       # Output: [[1, 2, 4], 3, 5]\n",
    "\n",
    "\n",
    "# --- Deep Copy ---\n",
    "original_list = [[1, 2], 3] # Reset original for deep copy demo\n",
    "deep_copy = copy.deepcopy(original_list)\n",
    "print(\"\\n--- Deep Copy ---\")\n",
    "print(f\"Original ID: {id(original_list)}, Deep Copy ID: {id(deep_copy)}\")\n",
    "print(f\"Original[0] ID: {id(original_list[0])}, Deep Copy[0] ID: {id(deep_copy[0])}\") # Different ID for nested list\n",
    "\n",
    "deep_copy[0].append(4) # Mutate nested list via deep copy\n",
    "deep_copy.append(5)    # Mutate top-level list via deep copy\n",
    "\n",
    "print(f\"Original after deep_copy mutation: {original_list}\") # Output: [[1, 2], 3] (original unchanged)\n",
    "print(f\"Deep Copy after mutation: {deep_copy}\")           # Output: [[1, 2, 4], 3, 5]"
   ]
  },
  {
   "cell_type": "markdown",
   "id": "95242236-4bd7-4bc1-94f8-8f7fb7fe858e",
   "metadata": {},
   "source": [
    "The relationship between these concepts is critical for predicting and controlling object behavior:\n",
    "\n",
    "- Aliasing is the prerequisite for side effects of Mutation: If you have aliases to a mutable object, any mutation performed through any of those aliases will be visible through all other aliases because they are all operating on the same single object. This is a common source of bugs if not understood.\n",
    "\n",
    "- Cloning is the solution to break Aliasing: When you need to ensure that modifying one \"copy\" of an object does not affect another, you must clone it. This breaks the aliasing link, giving you truly independent objects. You choose between shallow and deep cloning based on whether you need to also make independent copies of any nested mutable objects."
   ]
  },
  {
   "cell_type": "markdown",
   "id": "18f1afe6-415f-45c4-9b5b-e32207e44ac7",
   "metadata": {
    "jp-MarkdownHeadingCollapsed": true
   },
   "source": [
    "## Inheritance (Attributes)"
   ]
  },
  {
   "cell_type": "markdown",
   "id": "84b7e0cc-c8c1-418d-989b-727979f180c9",
   "metadata": {},
   "source": [
    "**Inheritance** is a fundamental principle of Object-Oriented Programming that establishes a hierarchical relationship between classes. It allows you to create new classes that build upon existing ones, promoting code reuse and establishing clear relationships between concepts.\n",
    "\n",
    "- Hierarchical Relationship: Inheritance takes advantage of natural hierarchies between objects and concepts by allowing classes to \"inherit\" attributes (data) and behaviors (methods) from other classes.\n",
    "- \"Is-a\" Relationship: The core idea is that a subclass \"is a\" type of its superclass.\n",
    "\n",
    "For example: A ```Car``` class could inherit from a ```Vehicle``` class. A ```Car``` \"is a\" type of ```Vehicle```. The ```Vehicle``` class is more general and abstract, while ```Car``` is more specific.\n",
    "\n",
    "**Key Terminology:**\n",
    "\n",
    "1. Parent Class (Superclass / Base Class): The class from which other classes inherit attributes and behaviors. It's the more general class in the hierarchy.\n",
    "\n",
    "2. Child Class (Subclass / Derived Class): A class that inherits attributes and behaviors from another class. It's the more specific class.\n",
    "\n",
    "**How Inheritance Works (Automatic Inheritance):**\n",
    "\n",
    "- Subclasses automatically inherit the attributes (instance attributes and class attributes) and methods of their superclasses. This means you don't need to rewrite the code for these elements in the subclass.\n",
    "\n",
    "- The advantages of inheritance include reduced code repetition (DRY - Don't Repeat Yourself principle) and more maintainable and scalable code. Subclasses can reuse code already written in their superclasses."
   ]
  },
  {
   "cell_type": "code",
   "execution_count": null,
   "id": "fe2df0ca-7694-4470-aea0-5d76568b2e6d",
   "metadata": {},
   "outputs": [],
   "source": [
    "class Vehicle: # Superclass\n",
    "    # Class attribute\n",
    "    num_wheels = 4\n",
    "\n",
    "    def __init__(self, brand, year):\n",
    "        self.brand = brand # Instance attribute\n",
    "        self.year = year   # Instance attribute\n",
    "        print(f\"Vehicle '{self.brand}' from {self.year} created.\\n\")\n",
    "\n",
    "    def display_info(self):\n",
    "        return f\"Vehicle: {self.brand}, Year: {self.year}, Wheels: {Vehicle.num_wheels}\\n\"\n",
    "\n",
    "class Car(Vehicle): # Subclass inheriting from Vehicle\n",
    "    def __init__(self, brand, year, model):\n",
    "        # We need to call the superclass's __init__ to initialize inherited attributes\n",
    "        Vehicle.__init__(self, brand, year)\n",
    "        self.model = model # New instance attribute specific to Car\n",
    "        print(f\"Car '{self.model}' created.\\n\")\n",
    "\n",
    "    def drive(self):\n",
    "        return f\"The {self.brand} {self.model} is driving.\"\n",
    "\n",
    "# --- Demonstration ---\n",
    "my_car = Car(\"Toyota\", 2023, \"Camry\")\n",
    "\n",
    "# Inherited attributes\n",
    "print(f\"Car Brand: {my_car.brand}\")\n",
    "print(f\"Car Year: {my_car.year}\")\n",
    "print(f\"Car Wheels (inherited class attribute): {my_car.num_wheels}\\n\")\n",
    "\n",
    "# Inherited method\n",
    "print(my_car.display_info())\n",
    "\n",
    "# Subclass specific method\n",
    "print(my_car.drive())"
   ]
  },
  {
   "cell_type": "markdown",
   "id": "bbe90fc7-384d-46bd-8299-6c025f50e6dc",
   "metadata": {},
   "source": [
    "**Multi-Level Inheritance (Hierarchies):**\n",
    "\n",
    "You can create multi-level hierarchies in Python. This involves having multiple levels of classes that inherit from each other, forming a chain (e.g., ```Grandparent -> Parent -> Child```)."
   ]
  },
  {
   "cell_type": "code",
   "execution_count": null,
   "id": "63819bd5-b9bc-472b-bc61-4eccea673df3",
   "metadata": {},
   "outputs": [],
   "source": [
    "class Animal:\n",
    "    def __init__(self, name):\n",
    "        self.name = name\n",
    "    def speak(self):\n",
    "        return \"Some generic sound\"\n",
    "\n",
    "class Mammal(Animal): # Mammal inherits from Animal\n",
    "    def __init__(self, name, fur_color):\n",
    "        Animal.__init__(self, name)\n",
    "        self.fur_color = fur_color\n",
    "    def nurse_young(self):\n",
    "        return f\"{self.name} is nursing its young.\"\n",
    "\n",
    "class Dog(Mammal): # Dog inherits from Mammal (and indirectly from Animal)\n",
    "    def __init__(self, name, fur_color, breed):\n",
    "        Mammal.__init__(self, name, fur_color)\n",
    "        self.breed = breed\n",
    "    def speak(self): # Overriding the speak method\n",
    "        return f\"{self.name} barks!\"\n",
    "\n",
    "my_dog = Dog(\"Buddy\", \"Golden\", \"Golden Retriever\")\n",
    "print(my_dog.speak())        # Output: Buddy barks! (Dog's method)\n",
    "print(my_dog.nurse_young())  # Output: Buddy is nursing its young. (Mammal's method)\n",
    "print(my_dog.name)           # Output: Buddy (Animal's attribute)"
   ]
  },
  {
   "cell_type": "markdown",
   "id": "23e25581-591a-49e1-b5b9-849b150a8b1e",
   "metadata": {},
   "source": [
    "**The ```__init__()``` Method in Subclasses (Crucial Point!):**\n",
    "\n",
    "This is a common point of confusion, so it's important to clarify:\n",
    "\n",
    "1. If you DO NOT define ```__init__()``` in the subclass:\n",
    "\n",
    "    - The subclass will automatically inherit and use the ```__init__()``` method of its immediate superclass. This means any instance attributes defined in the superclass's ```__init__``` will be initialized when you create an object of the subclass.\n",
    "\n",
    "    - Use Case: Simple inheritance where the subclass doesn't need any new unique initialization logic or attributes."
   ]
  },
  {
   "cell_type": "code",
   "execution_count": null,
   "id": "44b390d4-d0e3-4864-a8cb-b2f3bc42908c",
   "metadata": {},
   "outputs": [],
   "source": [
    "class SimpleParent:\n",
    "    def __init__(self, value):\n",
    "        self.value = value\n",
    "        print(\"SimpleParent __init__ called.\")\n",
    "\n",
    "class SimpleChild(SimpleParent): # No __init__ defined here\n",
    "    pass\n",
    "\n",
    "child_obj = SimpleChild(100) # This calls SimpleParent's __init__\n",
    "print(child_obj.value)       # Output: 100"
   ]
  },
  {
   "cell_type": "markdown",
   "id": "36022c48-8e1d-4916-a945-eb93536ff8ca",
   "metadata": {},
   "source": [
    "2. If you DO define ```__init__()``` in the subclass:\n",
    "\n",
    "    - If you define ```__init__()``` in your subclass, it overrides the superclass's ```__init__()```. This means the superclass's ```__init__()``` will NOT be called automatically.\n",
    "\n",
    "    - To ensure proper initialization: To initialize the attributes from the superclass (and avoid ```AttributeErrors``` later), you MUST explicitly call the superclass's ```__init__()``` method inside your subclass's __init__().\n",
    "\n",
    "    - The recommended way to do this is by using ```super().__init__(*args, **kwargs)```. ```super()``` returns a proxy object that allows you to call methods of the parent class."
   ]
  },
  {
   "cell_type": "code",
   "execution_count": null,
   "id": "42457aa9-a023-481a-ba9a-273ab28e6975",
   "metadata": {},
   "outputs": [],
   "source": [
    "class Person:\n",
    "    def __init__(self, name, age):\n",
    "        self.name = name\n",
    "        self.age = age\n",
    "        print(\"Person __init__ called.\")\n",
    "\n",
    "class Employee(Person):\n",
    "    def __init__(self, name, age, employee_id):\n",
    "        # IMPORTANT: Call the superclass's __init__ first!\n",
    "        super().__init__(name, age) # Passes name and age to Person's __init__\n",
    "        self.employee_id = employee_id # Add new attribute specific to Employee\n",
    "        print(\"Employee __init__ called.\")\n",
    "\n",
    "# --- Demonstration ---\n",
    "emp1 = Employee(\"Alice\", 30, \"E123\")\n",
    "print(f\"Name: {emp1.name}, Age: {emp1.age}, ID: {emp1.employee_id}\")\n",
    "\n",
    "# What happens if super().__init__ is forgotten?\n",
    "class BadEmployee(Person):\n",
    "    def __init__(self, employee_id): # Forgetting name, age parameters\n",
    "        # super().__init__(name, age) # !!! FORGOTTEN !!!\n",
    "        self.employee_id = employee_id\n",
    "\n",
    "# bad_emp = BadEmployee(\"E456\") # This would run Employee's __init__ only\n",
    "# print(bad_emp.name)           # This would raise an AttributeError!"
   ]
  },
  {
   "cell_type": "markdown",
   "id": "227b5e57-2120-4bf3-bdf4-80fa09924448",
   "metadata": {
    "jp-MarkdownHeadingCollapsed": true
   },
   "source": [
    "## Inheritance (Methods)"
   ]
  },
  {
   "cell_type": "markdown",
   "id": "97b6e2c8-1d3c-4e03-bf93-984a341ebaab",
   "metadata": {},
   "source": [
    "Just as subclasses inherit attributes, they also automatically inherit **methods** defined in their superclass. This is a cornerstone of code reuse and **polymorphism** in OOP.\n",
    "\n",
    "- **Automatic Inheritance**: Subclasses automatically inherit all methods defined in their superclass. This means that all instances of a subclass have access to these inherited methods and can call them, passing any corresponding arguments.\n",
    "\n",
    "- **Purpose**: Method inheritance is incredibly helpful for:\n",
    "    - Grouping related functionality: Common behaviors can be defined once in a superclass.\n",
    "    - Code Reuse: Subclasses can reuse this common code without rewriting it.\n",
    "    - Expanding Functionality: Subclasses can then expand upon this inherited functionality with more specialized logic.\n",
    "\n",
    "**How Python Finds Methods (Method Resolution Order - MRO)**:\n",
    "\n",
    "- When a method is called on an instance (e.g., ```my_object.some_method()```), Python follows a specific search order to find the method:\n",
    "1. It first searches for the method in the instance's own class.\n",
    "2. If not found there, it then searches in its immediate superclass.\n",
    "3. This process continues up the inheritance hierarchy (following the Method Resolution Order - MRO) until the method is found or a ```NameError``` is raised.\n",
    "\n",
    "- The Role of ```self```: When a method (whether defined in the subclass or inherited from the superclass) is called on an instance, ```self``` will always refer to the specific instance that is calling the method. This ensures that even inherited methods operate on the correct object's data."
   ]
  },
  {
   "cell_type": "code",
   "execution_count": null,
   "id": "395d10a6-9650-4121-9daa-f3227eec5719",
   "metadata": {},
   "outputs": [],
   "source": [
    "class Vehicle:\n",
    "    def __init__(self, brand):\n",
    "        self.brand = brand\n",
    "    def get_info(self):\n",
    "        # 'self' here refers to the actual instance (Car or Bike)\n",
    "        return f\"This is a {self.brand} vehicle.\"\n",
    "\n",
    "class Car(Vehicle):\n",
    "    def __init__(self, brand, model):\n",
    "        super().__init__(brand)\n",
    "        self.model = model\n",
    "\n",
    "class Bike(Vehicle):\n",
    "    def __init__(self, brand, type):\n",
    "        super().__init__(brand)\n",
    "        self.type = type\n",
    "\n",
    "my_car = Car(\"Ford\", \"Focus\")\n",
    "my_bike = Bike(\"Trek\", \"Mountain\")\n",
    "\n",
    "# get_info is inherited by both Car and Bike, but 'self' refers to the specific instance\n",
    "print(my_car.get_info())  # Output: This is a Ford vehicle.\n",
    "print(my_bike.get_info()) # Output: This is a Trek vehicle."
   ]
  },
  {
   "cell_type": "markdown",
   "id": "fd37242d-b820-47ce-8fc5-1b79c7b844e8",
   "metadata": {},
   "source": [
    "<br>**Method Overriding**\n",
    "\n",
    "- Concept: Method overriding occurs when a subclass provides its own specific implementation for a method that is already defined in its superclass. Essentially, the subclass method has the exact same name (and usually signature) as the superclass method, but contains different or expanded logic.\n",
    "\n",
    "- **Polymorphism**: Method overriding is a key enabler of polymorphism. Polymorphism (meaning \"many forms\") is a core principle of object-oriented programming where objects of different classes can respond to the same method call in different ways, based on their specific type. This allows you to write more generic and flexible code."
   ]
  },
  {
   "cell_type": "code",
   "execution_count": null,
   "id": "e588feaa-aeff-434b-aba1-4050099ac253",
   "metadata": {},
   "outputs": [],
   "source": [
    "class Animal:\n",
    "    def speak(self):\n",
    "        print(\"Generic animal sound\")\n",
    "\n",
    "class Dog(Animal):\n",
    "    def speak(self): # Overriding the 'speak' method\n",
    "        return print(\"Woof!\")\n",
    "\n",
    "class Cat(Animal):\n",
    "    def speak(self): # Overriding the 'speak' method\n",
    "        print(\"Meow!\")\n",
    "\n",
    "class Pidgey(Animal):\n",
    "    def speak(self): # Overriding the 'speak' method\n",
    "        super().speak()\n",
    "        print(\"Pii!\")\n",
    "\n",
    "# Demonstrating Polymorphism\n",
    "Dog().speak()\n",
    "Cat().speak()\n",
    "Animal().speak()\n",
    "Pidgey().speak()\n",
    "\n",
    "# Output:\n",
    "# Woof!\n",
    "# Meow!\n",
    "# Generic animal sound\n",
    "# Generic animal sound\n",
    "# Pii!\n",
    "# The 'speak()' call behaves differently based on the object's type."
   ]
  },
  {
   "cell_type": "markdown",
   "id": "381e23d8-81b8-4cac-a3c2-d9c2c99ab880",
   "metadata": {},
   "source": [
    "<br>**Extending Superclass Methods**\n",
    "\n",
    "- Subclasses can extend the functionality of a superclass method. This means they call the superclass method to perform its base logic and then add their own specialized logic before or after.\n",
    "\n",
    "- The ```super()``` function is the recommended way to call superclass methods within the subclasses. This approach handles complex inheritance hierarchies (Method Resolution Order - MRO) correctly and robustly.\n",
    "\n",
    "- Overwriting means replacing existing code or data with new code or data.\n",
    "- Overriding involves modifying the behavior of a method within a hierarchy. When a method is overridden, its new implementation takes precedence over previous implementations located higher in the hierarchy."
   ]
  },
  {
   "cell_type": "code",
   "execution_count": null,
   "id": "58778b08-49ef-4c91-bba4-0c3fa2f07a73",
   "metadata": {},
   "outputs": [],
   "source": [
    "class Logger:\n",
    "    def log_message(self, message):\n",
    "        return f\"[INFO] {message}\"\n",
    "\n",
    "class DebugLogger(Logger):\n",
    "    def log_message(self, message): # Overriding\n",
    "        # Extend functionality: call parent's method first\n",
    "        parent_log = super().log_message(message)\n",
    "        return f\"[DEBUG] {parent_log} (Called by DebugLogger)\"\n",
    "\n",
    "# --- Demonstration ---\n",
    "info_logger = Logger()\n",
    "debug_logger = DebugLogger()\n",
    "\n",
    "print(info_logger.log_message(\"System started.\"))\n",
    "# Output: [INFO] System started.\n",
    "\n",
    "print(debug_logger.log_message(\"Debugging process X.\"))\n",
    "# Output: [DEBUG] [INFO] Debugging process X. (Called by DebugLogger)"
   ]
  },
  {
   "cell_type": "markdown",
   "id": "7141bcab-7204-4be1-8962-c7374eb1c842",
   "metadata": {},
   "source": []
  }
 ],
 "metadata": {
  "kernelspec": {
   "display_name": "Python 3 (ipykernel)",
   "language": "python",
   "name": "python3"
  },
  "language_info": {
   "codemirror_mode": {
    "name": "ipython",
    "version": 3
   },
   "file_extension": ".py",
   "mimetype": "text/x-python",
   "name": "python",
   "nbconvert_exporter": "python",
   "pygments_lexer": "ipython3",
   "version": "3.12.4"
  }
 },
 "nbformat": 4,
 "nbformat_minor": 5
}
