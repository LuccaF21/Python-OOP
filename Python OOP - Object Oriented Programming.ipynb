{
 "cells": [
  {
   "cell_type": "markdown",
   "id": "4764bb6f",
   "metadata": {},
   "source": [
    "## Classes\n",
    "- They act like “blueprints” that describe the state and behavior of a type of real-world object or concept. <br>\n",
    "- They are used to represent real-world objects or entities relevant to the context of a program or system.\n",
    "\n",
    "<span style=\"color: darkblue\">For example: houses, bank accounts, employees, clients, cars, products.</span>\n",
    "\n",
    "\n",
    "**Main Elements:**\n",
    "- Class Attributes\n",
    "- __init__()\n",
    "- Methods\n",
    "\n",
    "**Guidelines:**\n",
    "\n",
    "- Class names are typically nouns. They should start with an uppercase letter.\n",
    "\n",
    "<span style=\"color: darkblue\">For example: House, Human, Dog, Account.</span>\n",
    "\n",
    "- If the name has more than one word, each word should be capitalized following the PascalCase naming convention.\n",
    "\n",
    "<span style=\"color: darkblue\">For example: SavingsAccount</span>\n",
    "\n",
    "- The body of the class must be indented.\n",
    "\n",
    "**Sintax:**\n",
    "\n",
    "```python\n",
    "class <ClassName>(object):\n",
    "```"
   ]
  },
  {
   "cell_type": "markdown",
   "id": "0f0ac13a",
   "metadata": {},
   "source": [
    "## Instances\n",
    "- They are concrete representations of the abstract objects that classes describe.\n",
    "- They are created from a class that acts like a “blueprint”. Classes determine the **attributes** and **functionality** of their instances.\n",
    "- You can assign custom or predefined values for their attributes. These values are assigned in the constructor __init__(), a method that runs when an object is created.\n",
    "- They share the same “categories” of attributes, but the attributes can have different values. Changing the value of an attribute for one instance doesn’t affect the other instances.\n",
    "\n",
    "<span style=\"color: darkblue\">For example: a class could have a “color” attribute. All the instances of that class would have this attribute, but the values can be different for each instance. One instance could have the value “blue” and another one the value “red”.</span>\n",
    "\n",
    "**Sintax:**\n",
    "\n",
    "```python\n",
    "<variable> = <ClassName>(<arguments>)\n",
    "\n",
    "## For Example\n",
    "my_account = BankAccount(\"5621\", \"Lucca Ferrari\", 40000.00)\n",
    "```"
   ]
  },
  {
   "cell_type": "markdown",
   "id": "9f4a4492",
   "metadata": {},
   "source": [
    "**Constructor** ``` __init__() ```:\n",
    "- This is a reserved method.\n",
    "- Also called the “constructor”of the class.\n",
    "- It’s called when an object (instance) is created.\n",
    "\n",
    "**Common Mistakes**\n",
    "- Omitting the **def** keyword.\n",
    "- Using only one underscore (You must use two).\n",
    "- Omitting **self** as the first parameter.\n",
    "- Not using ``` self.<attribute>``` to assign instance attributes.\n",
    "\n",
    "**self** is a generic way of referring to the current instance of the class.\n",
    "It is a way to refer in general to the object that is calling a method or being created.\n",
    "\n",
    "💡 The value of self is assigned automatically by the Python interpreter behind the scenes when the code runs. Its value is a reference to the instance in memory."
   ]
  },
  {
   "cell_type": "code",
   "execution_count": null,
   "id": "cfb9911e",
   "metadata": {},
   "outputs": [],
   "source": [
    "## Creating a Class\n",
    "class BackPack:\n",
    "    def __init__(self):\n",
    "        self.items = []"
   ]
  },
  {
   "cell_type": "code",
   "execution_count": null,
   "id": "b4de20e6",
   "metadata": {
    "scrolled": true
   },
   "outputs": [],
   "source": [
    "## Creating an Instance\n",
    "my_backpack = BackPack()\n",
    "print(my_backpack)\n",
    "print(my_backpack.items)\n",
    "print(isinstance(my_backpack, object))"
   ]
  },
  {
   "cell_type": "code",
   "execution_count": null,
   "id": "38406eca",
   "metadata": {},
   "outputs": [],
   "source": [
    "## Creating a Class\n",
    "class BackPack:\n",
    "    def __init__(self, color, size):\n",
    "        self.items = []\n",
    "        self.color = color\n",
    "        self.size = size"
   ]
  },
  {
   "cell_type": "code",
   "execution_count": null,
   "id": "546cdcef",
   "metadata": {},
   "outputs": [],
   "source": [
    "## Creating an Instance\n",
    "my_backpack = BackPack(\"Blue\", \"Medium\")\n",
    "print(my_backpack)\n",
    "print(f\"Color: {my_backpack.color}, Size: {my_backpack.size}\")\n",
    "print(isinstance(my_backpack, object))"
   ]
  },
  {
   "cell_type": "code",
   "execution_count": null,
   "id": "5c99e791",
   "metadata": {},
   "outputs": [],
   "source": [
    "my_backpack.items = [\"Notebook\", \"Pen\", \"Bottle\"]\n",
    "print(f\"Items: {my_backpack.items}\")"
   ]
  },
  {
   "cell_type": "markdown",
   "id": "ef2b261a",
   "metadata": {},
   "source": [
    "## Instance Attributes\n",
    "- They belong to the instances. These attributes are relevant to the context of the program.\n",
    "- For example: bank accounts have an owner, a balance, and a number. These could be instance attributes in a BankAccount class.\n",
    "- Their values are independent. They are not shared across instances. Each instance has its own individual copy of the attribute.\n",
    "- To pass custom values for these attributes, you need to add them as parameters in the constructor ```__init__()``` and assign them using ```self.<attribute> = <value>```\n",
    "- You can access and modify the values of these attributes after the instance has been created.\n",
    "- Changing the value of an attribute for one instance doesn’t affect the value of the other instances of the class.\n",
    "- You can also set fixed values for these attributes when the object is created by assigning a value in ```__init__()```."
   ]
  },
  {
   "cell_type": "code",
   "execution_count": null,
   "id": "dfb4c65f",
   "metadata": {},
   "outputs": [],
   "source": [
    "class BankAccount:\n",
    "    accounts_created = 0\n",
    "    \n",
    "    def __init__ (self, number, client, balance=0.0):\n",
    "        self.number = number\n",
    "        self.client = client\n",
    "        self.balance = balance\n",
    "        BankAccount.accounts_created += 1\n",
    "        \n",
    "    def display_number(self):\n",
    "        print(self.number)\n",
    "        \n",
    "    def display_client(self):\n",
    "        print(self.client)\n",
    "        \n",
    "    def display_balance(self):\n",
    "        print(self.balance)"
   ]
  },
  {
   "cell_type": "code",
   "execution_count": null,
   "id": "91339507",
   "metadata": {},
   "outputs": [],
   "source": [
    "my_account = BankAccount(\"1234\", \"Lucca Ferrari\")\n",
    "my_account.display_number()\n",
    "my_account.display_client()\n",
    "my_account.display_balance()"
   ]
  },
  {
   "cell_type": "markdown",
   "id": "98523f56",
   "metadata": {},
   "source": [
    "**Default Arguments** must be the last of the parameters list.\n",
    "- If a parameter of the ```__init__()``` method has a default value (argument) and you omit this argument when you create an instance, the default value will be assigned to the parameter."
   ]
  },
  {
   "cell_type": "markdown",
   "id": "b1d989cb",
   "metadata": {},
   "source": [
    "**What is None?**\n",
    "\n",
    "**None** is a special value in Python (and a keyword) that we can use to define a null variable or object. We use it when a variable has no value or object assigned to it (yet!).\n",
    "- **None** is an object itself.\n",
    "- **None** is also the only value of the **NoneType** data type. If we print the value returned by **type(None)** The output is ```<class 'NoneType'>```.\n",
    "\n",
    "The None value can be used in comparisons and expressions that have the is and is not operators.\n",
    "\n",
    "You can check if the value of a variable is None with this syntax:\n",
    "\n",
    "```python \n",
    "if <var> is None:\n",
    "# Do something if the value is None\n",
    "```\n",
    "Alternatively:\n",
    "```python \n",
    "if <var> is not None:\n",
    "# Do something if the value is not None\n",
    "```\n",
    "💡 Comparing None to anything will return False unless you compare it to None itself.\n",
    "\n",
    "**Frequent Use Cases of None**\n",
    "- You can assign the default value None to the parameters of __init__().\n",
    "- You can also use it to define optional arguments for functions and methods.\n"
   ]
  },
  {
   "cell_type": "markdown",
   "id": "f09a23f0",
   "metadata": {},
   "source": [
    "**Iterate over Sequences of Instances** <br>\n",
    "You can store instances in lists and tuples and iterate over them with a for loop.\n",
    "\n",
    "This can be very helpful if you need to run the same code block once per instance for a sequence of instances and work with their attributes and methods in the body of the loop.\n",
    "\n",
    "Example below:"
   ]
  },
  {
   "cell_type": "code",
   "execution_count": null,
   "id": "4f1f2668",
   "metadata": {},
   "outputs": [],
   "source": [
    "class Player:\n",
    "    def __init__(self, x, y):\n",
    "        self.x = x\n",
    "        self.y = y\n",
    "\n",
    "# creating three instances:\n",
    "player1 = Player(5, 6)\n",
    "player2 = Player(2, 4)\n",
    "player3 = Player(3, 6)\n",
    "\n",
    "# storing these instances in a list:\n",
    "players = [player1, player2, player3]\n",
    "\n",
    "# using a for loop to iterate over them one by one:\n",
    "for player in players:\n",
    "    print(f\"X: {player.x} Y: {player.y}\")"
   ]
  },
  {
   "cell_type": "markdown",
   "id": "3119b535",
   "metadata": {},
   "source": [
    "**Delete Instance Attributes with** ```del```\n",
    "\n",
    "You can delete an instance attribute with the keyword del followed by a space, the instance, a dot, and the name of the attribute that will be deleted.\n",
    "\n",
    "This is an example:\n",
    "\n",
    "```del <instance>.<attribute>```"
   ]
  },
  {
   "cell_type": "code",
   "execution_count": null,
   "id": "10323289",
   "metadata": {
    "scrolled": true
   },
   "outputs": [],
   "source": [
    "## Remove the instance attribute size from a my_backpack instance\n",
    "print(f\"Color: {my_backpack.color}, Size: {my_backpack.size}\")\n",
    "\n",
    "del my_backpack.size\n",
    "\n",
    "print(f\"Color: {my_backpack.color}, Size: {my_backpack.size}\")"
   ]
  },
  {
   "cell_type": "markdown",
   "id": "ff575021",
   "metadata": {},
   "source": [
    "💡 With ```del```, we can only use a **fixed value** for the name of the attribute that we write after the dot in the dot notation. This means that we cannot delete an attribute dynamically based on the value of a variable.\n",
    "\n",
    "But if we need to do this dynamically, we have our next alternative.\n",
    "\n",
    "**Delete Instance Attributes with** ```delattr```"
   ]
  },
  {
   "cell_type": "code",
   "execution_count": null,
   "id": "04adbf42",
   "metadata": {},
   "outputs": [],
   "source": [
    "class Player:\n",
    "    def __init__(self, x, y):\n",
    "        self.x = x\n",
    "        self.y = y\n",
    "        \n",
    "player = Player(6, 8)\n",
    "\n",
    "# list of attribute names (as strings)\n",
    "attributes = ['x', 'y']\n",
    "\n",
    "print(player.x)\n",
    "print(player.y)\n",
    "\n",
    "# We can iterate over these attributes to delete them from the player instance:\n",
    "for attribute in attributes:\n",
    "    delattr(player, attribute)\n",
    "    \n",
    "print(player.x)\n",
    "print(player.y)"
   ]
  },
  {
   "cell_type": "code",
   "execution_count": null,
   "id": "29e3ab0f",
   "metadata": {},
   "outputs": [],
   "source": [
    "class Bacterium:\n",
    "    def __init__(self, x, y, name, shape, classification, motility, growth_rate):\n",
    "        self.x = x\n",
    "        self.y = y\n",
    "        self.name = name  # Name of the bacterium\n",
    "        self.shape = shape  # Shape of the bacterium (e.g., cocci, bacilli)\n",
    "        self.classification = classification  # Classification of the bacterium (e.g., gram-positive, gram-negative)\n",
    "\n",
    "# Creating instances of Bacterium\n",
    "bacterium1 = Bacterium(10, 20, \"Escherichia coli\", \"bacilli\", \"gram-negative\", \"flagella\", \"rapid\")\n",
    "bacterium2 = Bacterium(30, 40, \"Staphylococcus aureus\", \"cocci\", \"gram-positive\", \"non-motile\", \"moderate\")\n",
    "bacterium3 = Bacterium(50, 60, \"Bacillus subtilis\", \"bacilli\", \"gram-positive\", \"flagella\", \"moderate\")\n"
   ]
  },
  {
   "cell_type": "code",
   "execution_count": null,
   "id": "dac8a911",
   "metadata": {},
   "outputs": [],
   "source": [
    "class Donut:\n",
    " \n",
    "    def __init__(self, flavor, toppings, filling, size):\n",
    "        self.flavor = flavor\n",
    "        self.toppings = toppings\n",
    "        self.filling = filling\n",
    "        self.size = size"
   ]
  },
  {
   "cell_type": "code",
   "execution_count": null,
   "id": "a2f07597",
   "metadata": {},
   "outputs": [],
   "source": [
    "class Customer:\n",
    " \n",
    "    def __init__(self, name, age, address, favorite_dessert):\n",
    "        self.name = name\n",
    "        self.age = age\n",
    "        self.address = address\n",
    "        self.favorite_dessert = favorite_dessert"
   ]
  },
  {
   "cell_type": "code",
   "execution_count": null,
   "id": "13844a5c",
   "metadata": {},
   "outputs": [],
   "source": [
    "class Cake:\n",
    "    \n",
    "    def __init__(self, flavor, price, quality):\n",
    "        self.flavor = flavor\n",
    "        self.price = price\n",
    "        self.quality = quality"
   ]
  },
  {
   "cell_type": "markdown",
   "id": "7be16f64",
   "metadata": {},
   "source": [
    "## Class Attributes"
   ]
  },
  {
   "cell_type": "markdown",
   "id": "a36fd957",
   "metadata": {},
   "source": [
    "They belong to the **class** and all instances share the same class attribute. There is only one copy of the attribute.\n",
    "\n",
    "- For example: If we want our class to keep track of how many accounts have been created, the BankAccount class could have a **accounts_created** class attribute and all the instances of this class would access that same value.\n",
    "- The value of a class attribute is shared across instances. They all access the value from the same source, the class.\n",
    "- Changing the value of a class attribute affects all instances, since they take the value from the same source.\n",
    "- You can access and modify the values of class attributes.\n",
    "- The value of a class attribute can be accessed using the name of the class. No instance is required to access class attributes.\n",
    "\n",
    "```<class_attribute> = <value>```"
   ]
  },
  {
   "cell_type": "code",
   "execution_count": null,
   "id": "fa7f9a01",
   "metadata": {},
   "outputs": [],
   "source": [
    "class BankAccount:\n",
    "    accounts_created = 0\n",
    "    \n",
    "    def __init__ (self, number, client, balance=0.0):\n",
    "        self.number = number\n",
    "        self.client = client\n",
    "        self.balance = balance\n",
    "        BankAccount.accounts_created += 1"
   ]
  },
  {
   "cell_type": "markdown",
   "id": "94e0d1f3",
   "metadata": {},
   "source": [
    "**Class Attributes vs. Instance Attributes**\n",
    "\n",
    "Here we have a summary of the key differences between class attributes and instance attributes:\n",
    "\n",
    "- Class Attributes<br>\n",
    "They belong to the class.<br>\n",
    "There is only one copy of each class attribute.<br>\n",
    "Changing their value affects all the instances of the class because they take the value from the same source.<br>\n",
    "<br>\n",
    "- Instance Attributes<br>\n",
    "They belong to the instances.<br>\n",
    "Every instance has a copy of the attribute.<br>\n",
    "Changing their value only affects a particular instance. Others instance remain unchanged.<br>"
   ]
  },
  {
   "cell_type": "code",
   "execution_count": null,
   "id": "a9d54b30",
   "metadata": {},
   "outputs": [],
   "source": [
    "class Movie:\n",
    "    \n",
    "    id_counter = 1\n",
    "    \n",
    "    def __init__(self, title,rating):\n",
    "        self.id = Movie.id_counter\n",
    "        self.title = title\n",
    "        self.rating = rating\n",
    "        \n",
    "        Movie.id_counter += 1"
   ]
  },
  {
   "cell_type": "code",
   "execution_count": null,
   "id": "80108427",
   "metadata": {},
   "outputs": [],
   "source": [
    "my_movie = Movie(\"De Volta para o Futoro\", 9.5)\n",
    "your_movie = Movie(\"Senhor dos Anéis\", 10.0)"
   ]
  },
  {
   "cell_type": "code",
   "execution_count": null,
   "id": "bfa80c46",
   "metadata": {},
   "outputs": [],
   "source": [
    "print(my_movie.id)\n",
    "print(my_movie.title)\n",
    "print(my_movie.rating)"
   ]
  },
  {
   "cell_type": "code",
   "execution_count": null,
   "id": "686cbbe6",
   "metadata": {},
   "outputs": [],
   "source": [
    "print(your_movie.id)\n",
    "print(your_movie.title)\n",
    "print(your_movie.rating)"
   ]
  },
  {
   "cell_type": "code",
   "execution_count": null,
   "id": "191949a0",
   "metadata": {},
   "outputs": [],
   "source": [
    "class Backpack:\n",
    "    \n",
    "    max_num_items = 10\n",
    "    \n",
    "    def __init__(self):\n",
    "        self.item = []\n",
    "        \n",
    "print(Backpack.max_num_items)\n",
    "\n",
    "my_backpack = Backpack()\n",
    "print(my_backpack.max_num_items)\n",
    "\n",
    "# When change the value of the class attribute, all the instances are affected as well.\n",
    "Backpack.max_num_items = 15\n",
    "\n",
    "print(Backpack.max_num_items)\n",
    "print(my_backpack.max_num_items)"
   ]
  },
  {
   "cell_type": "code",
   "execution_count": null,
   "id": "c7d23198",
   "metadata": {},
   "outputs": [],
   "source": [
    "class Programmer:\n",
    "    \n",
    "    salary = 10000\n",
    "    monthly_bonus = 100\n",
    "    \n",
    "    def __init__(self, name, age, address, phone, programming_languages):\n",
    "        self.name = name\n",
    "        self.age = age\n",
    "        self.address = address\n",
    "        self.phone = phone\n",
    "        self.programming_languages = programming_languages\n",
    " \n",
    " \n",
    "class Assistant:\n",
    "    \n",
    "    salary = 5000\n",
    "    monthly_bonus = 50\n",
    "    \n",
    "    def __init__(self, name, age, address, phone, is_bilingual):\n",
    "        self.name = name\n",
    "        self.age = age\n",
    "        self.address = address\n",
    "        self.phone = phone\n",
    "        self.is_bilingual = is_bilingual\n",
    " \n",
    " \n",
    "# Function that prints the monthly salary of each worker\n",
    "# and the total amount that the startup owner has to pay per month.\n",
    "def calculate_payroll(employees):\n",
    " \n",
    "    total = 0\n",
    " \n",
    "    print(\"\\n========= Welcome to our Payroll System =========\\n\")\n",
    " \n",
    "    # Iterate over the list of instances to calculate\n",
    "    # and display the monthly salary of each employee,\n",
    "    # and add the monthly salary to the total for this month.\n",
    "    for employee in employees:\n",
    "        salary = round(employee.salary / 12, 2) + employee.monthly_bonus\n",
    "        print(employee.name.capitalize() + \"'s salary is: $\" + str(salary))\n",
    "        total += salary\n",
    " \n",
    "    # Display the total\n",
    "    print(\"\\nThe total payroll this month will be: $\", total)\n",
    " \n",
    "# Instances (employees)\n",
    "jack = Programmer(\"Jack\", 45, \"5th Avenue\", \"555-563-345\", [\"Python\", \"Java\"])\n",
    "isabel = Programmer(\"Isabel\", 25, \"6th Avenue\", \"234-245-853\", [\"JavaScript\"])\n",
    "nora = Assistant(\"Nora\", 23, \"7th Avenue\", \"562-577-333\", True)\n",
    " \n",
    "# List of instances\n",
    "employees = [jack, isabel, nora]\n",
    " \n",
    "# Function call (Passing the list of instances as argument)\n",
    "calculate_payroll(employees)"
   ]
  },
  {
   "cell_type": "markdown",
   "id": "7140bf99",
   "metadata": {},
   "source": [
    "**Encapsulation and Abstraction**\n",
    "\n",
    "**Encapsulation**\n",
    "- “Bundling” of data and actions into a single unit (class).\n",
    "- Applied through the principle of information hiding.\n",
    "- You should restrict direct access to your data unless there is an important reasons not to do so.\n",
    "- To do this, you can define non-public attributes in Python.\n",
    "\n",
    "The recommended way to indicate that an attribute is “protected” and should not be accessed outside of the class, is to use a single leading underscore.\n",
    "\n",
    "**Abstraction**\n",
    "- Show only the essential attributes and hide unnecessary details from the user.\n",
    "- The interface of a component should be independent of the implementation.\n",
    "- Relying on more general or “abstract” types of objects to avoid code repetition with the use of inheritance.\n",
    "\n",
    "**Public Attribute** : An attribute that can be accessed and modified directly without access restrictions.\n",
    "\n",
    "**Non-Public Attribute** : An attribute that **shouldn't** be accessed or modified outside of the class. (Even though technically it can be accessed in Python). No attribute is ever really private in Python. These attributes can still be accessed outside of the class but according to the naming conventions, you shouldn't.\n",
    "\n",
    "**Name mangling** : When the process of name mangling is triggered, the name of the attribute is modified to avoid name clashes. You can technically access its value with the new name of the attribute (but you shouldn't).\n",
    "```python\n",
    "__engine_serial_num #Create two leading underscores.\n",
    "\n",
    "_Car__engine_serial_num #Sintaxe to access the attribute.\n",
    "```\n",
    "\n",
    "💡An attribute is never really private in Python because even if you add a leading underscore to the name of the attribute to follow the Python naming conventions or if you add two leading underscores to trigger the process of name mangling, you can still access the value of the attribute directly, outside the class."
   ]
  },
  {
   "cell_type": "code",
   "execution_count": null,
   "id": "836f753e",
   "metadata": {},
   "outputs": [],
   "source": [
    "class Car:\n",
    "    \n",
    "    def __init__(self, brand, model, year):\n",
    "        self.brand = brand\n",
    "        self.__model = model\n",
    "        self._year = year\n",
    "    \n",
    "my_car = Car(\"Porche\", \"911 Carrera\", 2020)"
   ]
  },
  {
   "cell_type": "code",
   "execution_count": null,
   "id": "36c25318",
   "metadata": {},
   "outputs": [],
   "source": [
    "#Non-Public attribute was created inside the class, it was used a leading underscore to do so.\n",
    "print(my_car._year)\n",
    "\n",
    "#"
   ]
  },
  {
   "cell_type": "code",
   "execution_count": null,
   "id": "a7b60dac",
   "metadata": {},
   "outputs": [],
   "source": [
    "#Non-Public attribute was created inside the class, it was used a double leading underscore to do so.\n",
    "print(my_car._Car__model)"
   ]
  },
  {
   "cell_type": "markdown",
   "id": "976af29e",
   "metadata": {},
   "source": [
    "### Getters and Setters"
   ]
  },
  {
   "cell_type": "markdown",
   "id": "50a5df52",
   "metadata": {},
   "source": [
    "We can make the attributes non-public and still provide a way to work with them indirectly.\n",
    "\n",
    "1. Getters:\n",
    "- Methods that instances can call to “get” the value of a protected instance attribute.\n",
    "- They serve as intermediaries to avoid accessing the data directly.\n",
    "\n",
    "Naming Rules:\n",
    "- ```get + _ + <attribute>```\n",
    "- Examples: get_age, get_name, get_code"
   ]
  },
  {
   "cell_type": "code",
   "execution_count": null,
   "id": "269cd7a8",
   "metadata": {},
   "outputs": [],
   "source": [
    "class Movie:\n",
    "    def __init__(self, title, rating):\n",
    "        self._title = title #non-public\n",
    "        self._rating = rating\n",
    "        \n",
    "    def get_title(self):\n",
    "        return self._title\n",
    "    \n",
    "    def get_rating(self):\n",
    "        return self._rating\n",
    "    \n",
    "my_movie = Movie(\"The Godfather\", 9.0)\n",
    "print(my_movie.get_title())\n",
    "print(my_movie.get_rating())"
   ]
  },
  {
   "cell_type": "markdown",
   "id": "ca2a4e2b",
   "metadata": {},
   "source": [
    "2. Setters:\n",
    "- Methods that instances can call to “set” the value of a protected instance attribute.\n",
    "- They serve as intermediaries to avoid accessing the data directly.\n",
    "- You can check if the value is valid before assigning it and you can \n",
    "react appropriately if the value is not valid.\n",
    "- They take one argument: the new value for the attribute.\n",
    "\n",
    "Naming Rules:\n",
    "- ```set + _ + <attribute>```\n",
    "- Examples: set_age, set_name, set_code"
   ]
  },
  {
   "cell_type": "code",
   "execution_count": null,
   "id": "c40cfde1",
   "metadata": {},
   "outputs": [],
   "source": [
    "class Movie:\n",
    "    def __init__(self, title, rating):\n",
    "        self._title = title #non-public\n",
    "        self._rating = rating\n",
    "        \n",
    "    def get_title(self):\n",
    "        return self._title\n",
    "    \n",
    "    def get_rating(self):\n",
    "        return self._rating\n",
    "    \n",
    "    def set_rating(self, new_rating):\n",
    "        if isinstance(new_rating, (int, float)):\n",
    "            self._rating = new_rating\n",
    "        else:\n",
    "            print(\"Please enter valid rating.\")\n",
    "    \n",
    "my_movie = Movie(\"The Godfather\", 9.0)\n",
    "print(my_movie.get_title(), my_movie.get_rating())\n",
    "my_movie.set_rating(10.0)\n",
    "print(my_movie.get_title(), my_movie.get_rating())"
   ]
  },
  {
   "cell_type": "markdown",
   "id": "b766cc8a",
   "metadata": {},
   "source": [
    "3. Properties:\n",
    "- They are the “pythonic” way of working with getters and setters.\n",
    "- The property can be accessed with the same syntax used to access public instance attributes.\n",
    "- No need to call getters and setters explicitly, but they do act as intermediaries “behind the scenes”.\n",
    "\n",
    "Two alternatives:\n",
    "- Using the built-in function property().\n",
    "- Using the @property decorator. \n",
    "- **Decorator:** Is a function that takes a function and extends its behavior without explicitly modifying it.\n",
    "- @property is the recommended syntax to work with properties in Python.\n",
    "\n",
    "Advantages:\n",
    "- More compact.\n",
    "- Improved readability.\n",
    "- No namespace pollution."
   ]
  },
  {
   "cell_type": "code",
   "execution_count": null,
   "id": "7479a4ed",
   "metadata": {},
   "outputs": [],
   "source": [
    "class Circle:\n",
    "    \n",
    "    def __init__(self, radius):\n",
    "        self._radius = radius\n",
    "        \n",
    "    def get_radius(self):\n",
    "        return self._radius\n",
    "    \n",
    "    def set_radius(self, new_radius):\n",
    "        if isinstance(new_radius, int) and new_radius > 0:\n",
    "            self._radius = new_radius\n",
    "        else:\n",
    "            print(\"Please enter a valid radius.\")\n",
    "        \n",
    "    radius = property(get_radius, set_radius)"
   ]
  },
  {
   "cell_type": "code",
   "execution_count": null,
   "id": "b5d29895",
   "metadata": {},
   "outputs": [],
   "source": [
    "my_circle = Circle(10)\n",
    "print(my_circle.radius)"
   ]
  },
  {
   "cell_type": "code",
   "execution_count": null,
   "id": "1caa28cc",
   "metadata": {},
   "outputs": [],
   "source": [
    "my_circle.radius = 100\n",
    "print(my_circle.radius)"
   ]
  },
  {
   "cell_type": "code",
   "execution_count": null,
   "id": "d96dc9e6",
   "metadata": {},
   "outputs": [],
   "source": [
    "class Circle:\n",
    "    \n",
    "    def __init__(self, radius):\n",
    "        self._radius = radius\n",
    "    \n",
    "    @property\n",
    "    def radius(self): #Name of the property.\n",
    "        return self._radius\n",
    "    \n",
    "    @radius.setter\n",
    "    def radius(self, new_radius):\n",
    "        if isinstance(new_radius, int) and new_radius > 0:\n",
    "            self._radius = new_radius\n",
    "        else:\n",
    "            print(\"Please enter a valid radius.\")"
   ]
  },
  {
   "cell_type": "code",
   "execution_count": null,
   "id": "df2532ac",
   "metadata": {},
   "outputs": [],
   "source": [
    "my_circle = Circle(10)\n",
    "print(my_circle.radius)"
   ]
  },
  {
   "cell_type": "code",
   "execution_count": null,
   "id": "9155f0c9",
   "metadata": {},
   "outputs": [],
   "source": [
    "my_circle.radius = 100\n",
    "print(my_circle.radius)"
   ]
  }
 ],
 "metadata": {
  "kernelspec": {
   "display_name": "Python 3 (ipykernel)",
   "language": "python",
   "name": "python3"
  },
  "language_info": {
   "codemirror_mode": {
    "name": "ipython",
    "version": 3
   },
   "file_extension": ".py",
   "mimetype": "text/x-python",
   "name": "python",
   "nbconvert_exporter": "python",
   "pygments_lexer": "ipython3",
   "version": "3.11.5"
  }
 },
 "nbformat": 4,
 "nbformat_minor": 5
}
